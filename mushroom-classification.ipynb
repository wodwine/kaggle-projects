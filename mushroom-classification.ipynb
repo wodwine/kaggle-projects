{
 "cells": [
  {
   "cell_type": "code",
   "execution_count": 1,
   "id": "smoking-crime",
   "metadata": {},
   "outputs": [],
   "source": [
    "import pandas as pd\n",
    "import matplotlib.pyplot as plt\n",
    "import numpy as np\n",
    "import seaborn as sns"
   ]
  },
  {
   "cell_type": "markdown",
   "id": "indirect-flush",
   "metadata": {},
   "source": [
    "This notebook is informed from \n",
    "https://www.kaggle.com/shweta0910/mushroom-classification-eda"
   ]
  },
  {
   "cell_type": "code",
   "execution_count": 2,
   "id": "smart-european",
   "metadata": {},
   "outputs": [
    {
     "data": {
      "text/html": [
       "<div>\n",
       "<style scoped>\n",
       "    .dataframe tbody tr th:only-of-type {\n",
       "        vertical-align: middle;\n",
       "    }\n",
       "\n",
       "    .dataframe tbody tr th {\n",
       "        vertical-align: top;\n",
       "    }\n",
       "\n",
       "    .dataframe thead th {\n",
       "        text-align: right;\n",
       "    }\n",
       "</style>\n",
       "<table border=\"1\" class=\"dataframe\">\n",
       "  <thead>\n",
       "    <tr style=\"text-align: right;\">\n",
       "      <th></th>\n",
       "      <th>class</th>\n",
       "      <th>cap-shape</th>\n",
       "      <th>cap-surface</th>\n",
       "      <th>cap-color</th>\n",
       "      <th>bruises</th>\n",
       "      <th>odor</th>\n",
       "      <th>gill-attachment</th>\n",
       "      <th>gill-spacing</th>\n",
       "      <th>gill-size</th>\n",
       "      <th>gill-color</th>\n",
       "      <th>...</th>\n",
       "      <th>stalk-surface-below-ring</th>\n",
       "      <th>stalk-color-above-ring</th>\n",
       "      <th>stalk-color-below-ring</th>\n",
       "      <th>veil-type</th>\n",
       "      <th>veil-color</th>\n",
       "      <th>ring-number</th>\n",
       "      <th>ring-type</th>\n",
       "      <th>spore-print-color</th>\n",
       "      <th>population</th>\n",
       "      <th>habitat</th>\n",
       "    </tr>\n",
       "  </thead>\n",
       "  <tbody>\n",
       "    <tr>\n",
       "      <th>0</th>\n",
       "      <td>p</td>\n",
       "      <td>x</td>\n",
       "      <td>s</td>\n",
       "      <td>n</td>\n",
       "      <td>t</td>\n",
       "      <td>p</td>\n",
       "      <td>f</td>\n",
       "      <td>c</td>\n",
       "      <td>n</td>\n",
       "      <td>k</td>\n",
       "      <td>...</td>\n",
       "      <td>s</td>\n",
       "      <td>w</td>\n",
       "      <td>w</td>\n",
       "      <td>p</td>\n",
       "      <td>w</td>\n",
       "      <td>o</td>\n",
       "      <td>p</td>\n",
       "      <td>k</td>\n",
       "      <td>s</td>\n",
       "      <td>u</td>\n",
       "    </tr>\n",
       "    <tr>\n",
       "      <th>1</th>\n",
       "      <td>e</td>\n",
       "      <td>x</td>\n",
       "      <td>s</td>\n",
       "      <td>y</td>\n",
       "      <td>t</td>\n",
       "      <td>a</td>\n",
       "      <td>f</td>\n",
       "      <td>c</td>\n",
       "      <td>b</td>\n",
       "      <td>k</td>\n",
       "      <td>...</td>\n",
       "      <td>s</td>\n",
       "      <td>w</td>\n",
       "      <td>w</td>\n",
       "      <td>p</td>\n",
       "      <td>w</td>\n",
       "      <td>o</td>\n",
       "      <td>p</td>\n",
       "      <td>n</td>\n",
       "      <td>n</td>\n",
       "      <td>g</td>\n",
       "    </tr>\n",
       "    <tr>\n",
       "      <th>2</th>\n",
       "      <td>e</td>\n",
       "      <td>b</td>\n",
       "      <td>s</td>\n",
       "      <td>w</td>\n",
       "      <td>t</td>\n",
       "      <td>l</td>\n",
       "      <td>f</td>\n",
       "      <td>c</td>\n",
       "      <td>b</td>\n",
       "      <td>n</td>\n",
       "      <td>...</td>\n",
       "      <td>s</td>\n",
       "      <td>w</td>\n",
       "      <td>w</td>\n",
       "      <td>p</td>\n",
       "      <td>w</td>\n",
       "      <td>o</td>\n",
       "      <td>p</td>\n",
       "      <td>n</td>\n",
       "      <td>n</td>\n",
       "      <td>m</td>\n",
       "    </tr>\n",
       "    <tr>\n",
       "      <th>3</th>\n",
       "      <td>p</td>\n",
       "      <td>x</td>\n",
       "      <td>y</td>\n",
       "      <td>w</td>\n",
       "      <td>t</td>\n",
       "      <td>p</td>\n",
       "      <td>f</td>\n",
       "      <td>c</td>\n",
       "      <td>n</td>\n",
       "      <td>n</td>\n",
       "      <td>...</td>\n",
       "      <td>s</td>\n",
       "      <td>w</td>\n",
       "      <td>w</td>\n",
       "      <td>p</td>\n",
       "      <td>w</td>\n",
       "      <td>o</td>\n",
       "      <td>p</td>\n",
       "      <td>k</td>\n",
       "      <td>s</td>\n",
       "      <td>u</td>\n",
       "    </tr>\n",
       "    <tr>\n",
       "      <th>4</th>\n",
       "      <td>e</td>\n",
       "      <td>x</td>\n",
       "      <td>s</td>\n",
       "      <td>g</td>\n",
       "      <td>f</td>\n",
       "      <td>n</td>\n",
       "      <td>f</td>\n",
       "      <td>w</td>\n",
       "      <td>b</td>\n",
       "      <td>k</td>\n",
       "      <td>...</td>\n",
       "      <td>s</td>\n",
       "      <td>w</td>\n",
       "      <td>w</td>\n",
       "      <td>p</td>\n",
       "      <td>w</td>\n",
       "      <td>o</td>\n",
       "      <td>e</td>\n",
       "      <td>n</td>\n",
       "      <td>a</td>\n",
       "      <td>g</td>\n",
       "    </tr>\n",
       "    <tr>\n",
       "      <th>...</th>\n",
       "      <td>...</td>\n",
       "      <td>...</td>\n",
       "      <td>...</td>\n",
       "      <td>...</td>\n",
       "      <td>...</td>\n",
       "      <td>...</td>\n",
       "      <td>...</td>\n",
       "      <td>...</td>\n",
       "      <td>...</td>\n",
       "      <td>...</td>\n",
       "      <td>...</td>\n",
       "      <td>...</td>\n",
       "      <td>...</td>\n",
       "      <td>...</td>\n",
       "      <td>...</td>\n",
       "      <td>...</td>\n",
       "      <td>...</td>\n",
       "      <td>...</td>\n",
       "      <td>...</td>\n",
       "      <td>...</td>\n",
       "      <td>...</td>\n",
       "    </tr>\n",
       "    <tr>\n",
       "      <th>8119</th>\n",
       "      <td>e</td>\n",
       "      <td>k</td>\n",
       "      <td>s</td>\n",
       "      <td>n</td>\n",
       "      <td>f</td>\n",
       "      <td>n</td>\n",
       "      <td>a</td>\n",
       "      <td>c</td>\n",
       "      <td>b</td>\n",
       "      <td>y</td>\n",
       "      <td>...</td>\n",
       "      <td>s</td>\n",
       "      <td>o</td>\n",
       "      <td>o</td>\n",
       "      <td>p</td>\n",
       "      <td>o</td>\n",
       "      <td>o</td>\n",
       "      <td>p</td>\n",
       "      <td>b</td>\n",
       "      <td>c</td>\n",
       "      <td>l</td>\n",
       "    </tr>\n",
       "    <tr>\n",
       "      <th>8120</th>\n",
       "      <td>e</td>\n",
       "      <td>x</td>\n",
       "      <td>s</td>\n",
       "      <td>n</td>\n",
       "      <td>f</td>\n",
       "      <td>n</td>\n",
       "      <td>a</td>\n",
       "      <td>c</td>\n",
       "      <td>b</td>\n",
       "      <td>y</td>\n",
       "      <td>...</td>\n",
       "      <td>s</td>\n",
       "      <td>o</td>\n",
       "      <td>o</td>\n",
       "      <td>p</td>\n",
       "      <td>n</td>\n",
       "      <td>o</td>\n",
       "      <td>p</td>\n",
       "      <td>b</td>\n",
       "      <td>v</td>\n",
       "      <td>l</td>\n",
       "    </tr>\n",
       "    <tr>\n",
       "      <th>8121</th>\n",
       "      <td>e</td>\n",
       "      <td>f</td>\n",
       "      <td>s</td>\n",
       "      <td>n</td>\n",
       "      <td>f</td>\n",
       "      <td>n</td>\n",
       "      <td>a</td>\n",
       "      <td>c</td>\n",
       "      <td>b</td>\n",
       "      <td>n</td>\n",
       "      <td>...</td>\n",
       "      <td>s</td>\n",
       "      <td>o</td>\n",
       "      <td>o</td>\n",
       "      <td>p</td>\n",
       "      <td>o</td>\n",
       "      <td>o</td>\n",
       "      <td>p</td>\n",
       "      <td>b</td>\n",
       "      <td>c</td>\n",
       "      <td>l</td>\n",
       "    </tr>\n",
       "    <tr>\n",
       "      <th>8122</th>\n",
       "      <td>p</td>\n",
       "      <td>k</td>\n",
       "      <td>y</td>\n",
       "      <td>n</td>\n",
       "      <td>f</td>\n",
       "      <td>y</td>\n",
       "      <td>f</td>\n",
       "      <td>c</td>\n",
       "      <td>n</td>\n",
       "      <td>b</td>\n",
       "      <td>...</td>\n",
       "      <td>k</td>\n",
       "      <td>w</td>\n",
       "      <td>w</td>\n",
       "      <td>p</td>\n",
       "      <td>w</td>\n",
       "      <td>o</td>\n",
       "      <td>e</td>\n",
       "      <td>w</td>\n",
       "      <td>v</td>\n",
       "      <td>l</td>\n",
       "    </tr>\n",
       "    <tr>\n",
       "      <th>8123</th>\n",
       "      <td>e</td>\n",
       "      <td>x</td>\n",
       "      <td>s</td>\n",
       "      <td>n</td>\n",
       "      <td>f</td>\n",
       "      <td>n</td>\n",
       "      <td>a</td>\n",
       "      <td>c</td>\n",
       "      <td>b</td>\n",
       "      <td>y</td>\n",
       "      <td>...</td>\n",
       "      <td>s</td>\n",
       "      <td>o</td>\n",
       "      <td>o</td>\n",
       "      <td>p</td>\n",
       "      <td>o</td>\n",
       "      <td>o</td>\n",
       "      <td>p</td>\n",
       "      <td>o</td>\n",
       "      <td>c</td>\n",
       "      <td>l</td>\n",
       "    </tr>\n",
       "  </tbody>\n",
       "</table>\n",
       "<p>8124 rows × 23 columns</p>\n",
       "</div>"
      ],
      "text/plain": [
       "     class cap-shape cap-surface cap-color bruises odor gill-attachment  \\\n",
       "0        p         x           s         n       t    p               f   \n",
       "1        e         x           s         y       t    a               f   \n",
       "2        e         b           s         w       t    l               f   \n",
       "3        p         x           y         w       t    p               f   \n",
       "4        e         x           s         g       f    n               f   \n",
       "...    ...       ...         ...       ...     ...  ...             ...   \n",
       "8119     e         k           s         n       f    n               a   \n",
       "8120     e         x           s         n       f    n               a   \n",
       "8121     e         f           s         n       f    n               a   \n",
       "8122     p         k           y         n       f    y               f   \n",
       "8123     e         x           s         n       f    n               a   \n",
       "\n",
       "     gill-spacing gill-size gill-color  ... stalk-surface-below-ring  \\\n",
       "0               c         n          k  ...                        s   \n",
       "1               c         b          k  ...                        s   \n",
       "2               c         b          n  ...                        s   \n",
       "3               c         n          n  ...                        s   \n",
       "4               w         b          k  ...                        s   \n",
       "...           ...       ...        ...  ...                      ...   \n",
       "8119            c         b          y  ...                        s   \n",
       "8120            c         b          y  ...                        s   \n",
       "8121            c         b          n  ...                        s   \n",
       "8122            c         n          b  ...                        k   \n",
       "8123            c         b          y  ...                        s   \n",
       "\n",
       "     stalk-color-above-ring stalk-color-below-ring veil-type veil-color  \\\n",
       "0                         w                      w         p          w   \n",
       "1                         w                      w         p          w   \n",
       "2                         w                      w         p          w   \n",
       "3                         w                      w         p          w   \n",
       "4                         w                      w         p          w   \n",
       "...                     ...                    ...       ...        ...   \n",
       "8119                      o                      o         p          o   \n",
       "8120                      o                      o         p          n   \n",
       "8121                      o                      o         p          o   \n",
       "8122                      w                      w         p          w   \n",
       "8123                      o                      o         p          o   \n",
       "\n",
       "     ring-number ring-type spore-print-color population habitat  \n",
       "0              o         p                 k          s       u  \n",
       "1              o         p                 n          n       g  \n",
       "2              o         p                 n          n       m  \n",
       "3              o         p                 k          s       u  \n",
       "4              o         e                 n          a       g  \n",
       "...          ...       ...               ...        ...     ...  \n",
       "8119           o         p                 b          c       l  \n",
       "8120           o         p                 b          v       l  \n",
       "8121           o         p                 b          c       l  \n",
       "8122           o         e                 w          v       l  \n",
       "8123           o         p                 o          c       l  \n",
       "\n",
       "[8124 rows x 23 columns]"
      ]
     },
     "execution_count": 2,
     "metadata": {},
     "output_type": "execute_result"
    }
   ],
   "source": [
    "data = pd.read_csv(\"data/mushrooms.csv\")\n",
    "data"
   ]
  },
  {
   "cell_type": "code",
   "execution_count": 3,
   "id": "positive-local",
   "metadata": {},
   "outputs": [
    {
     "data": {
      "text/plain": [
       "class                       0.0\n",
       "cap-shape                   0.0\n",
       "cap-surface                 0.0\n",
       "cap-color                   0.0\n",
       "bruises                     0.0\n",
       "odor                        0.0\n",
       "gill-attachment             0.0\n",
       "gill-spacing                0.0\n",
       "gill-size                   0.0\n",
       "gill-color                  0.0\n",
       "stalk-shape                 0.0\n",
       "stalk-root                  0.0\n",
       "stalk-surface-above-ring    0.0\n",
       "stalk-surface-below-ring    0.0\n",
       "stalk-color-above-ring      0.0\n",
       "stalk-color-below-ring      0.0\n",
       "veil-type                   0.0\n",
       "veil-color                  0.0\n",
       "ring-number                 0.0\n",
       "ring-type                   0.0\n",
       "spore-print-color           0.0\n",
       "population                  0.0\n",
       "habitat                     0.0\n",
       "dtype: float64"
      ]
     },
     "execution_count": 3,
     "metadata": {},
     "output_type": "execute_result"
    }
   ],
   "source": [
    "data.isna().sum()/len(data)"
   ]
  },
  {
   "cell_type": "code",
   "execution_count": 4,
   "id": "injured-grave",
   "metadata": {},
   "outputs": [
    {
     "data": {
      "text/html": [
       "<div>\n",
       "<style scoped>\n",
       "    .dataframe tbody tr th:only-of-type {\n",
       "        vertical-align: middle;\n",
       "    }\n",
       "\n",
       "    .dataframe tbody tr th {\n",
       "        vertical-align: top;\n",
       "    }\n",
       "\n",
       "    .dataframe thead th {\n",
       "        text-align: right;\n",
       "    }\n",
       "</style>\n",
       "<table border=\"1\" class=\"dataframe\">\n",
       "  <thead>\n",
       "    <tr style=\"text-align: right;\">\n",
       "      <th></th>\n",
       "      <th>class</th>\n",
       "      <th>cap-shape</th>\n",
       "      <th>cap-surface</th>\n",
       "      <th>cap-color</th>\n",
       "      <th>bruises</th>\n",
       "      <th>odor</th>\n",
       "      <th>gill-attachment</th>\n",
       "      <th>gill-spacing</th>\n",
       "      <th>gill-size</th>\n",
       "      <th>gill-color</th>\n",
       "      <th>...</th>\n",
       "      <th>stalk-surface-below-ring</th>\n",
       "      <th>stalk-color-above-ring</th>\n",
       "      <th>stalk-color-below-ring</th>\n",
       "      <th>veil-type</th>\n",
       "      <th>veil-color</th>\n",
       "      <th>ring-number</th>\n",
       "      <th>ring-type</th>\n",
       "      <th>spore-print-color</th>\n",
       "      <th>population</th>\n",
       "      <th>habitat</th>\n",
       "    </tr>\n",
       "  </thead>\n",
       "  <tbody>\n",
       "    <tr>\n",
       "      <th>count</th>\n",
       "      <td>8124</td>\n",
       "      <td>8124</td>\n",
       "      <td>8124</td>\n",
       "      <td>8124</td>\n",
       "      <td>8124</td>\n",
       "      <td>8124</td>\n",
       "      <td>8124</td>\n",
       "      <td>8124</td>\n",
       "      <td>8124</td>\n",
       "      <td>8124</td>\n",
       "      <td>...</td>\n",
       "      <td>8124</td>\n",
       "      <td>8124</td>\n",
       "      <td>8124</td>\n",
       "      <td>8124</td>\n",
       "      <td>8124</td>\n",
       "      <td>8124</td>\n",
       "      <td>8124</td>\n",
       "      <td>8124</td>\n",
       "      <td>8124</td>\n",
       "      <td>8124</td>\n",
       "    </tr>\n",
       "    <tr>\n",
       "      <th>unique</th>\n",
       "      <td>2</td>\n",
       "      <td>6</td>\n",
       "      <td>4</td>\n",
       "      <td>10</td>\n",
       "      <td>2</td>\n",
       "      <td>9</td>\n",
       "      <td>2</td>\n",
       "      <td>2</td>\n",
       "      <td>2</td>\n",
       "      <td>12</td>\n",
       "      <td>...</td>\n",
       "      <td>4</td>\n",
       "      <td>9</td>\n",
       "      <td>9</td>\n",
       "      <td>1</td>\n",
       "      <td>4</td>\n",
       "      <td>3</td>\n",
       "      <td>5</td>\n",
       "      <td>9</td>\n",
       "      <td>6</td>\n",
       "      <td>7</td>\n",
       "    </tr>\n",
       "    <tr>\n",
       "      <th>top</th>\n",
       "      <td>e</td>\n",
       "      <td>x</td>\n",
       "      <td>y</td>\n",
       "      <td>n</td>\n",
       "      <td>f</td>\n",
       "      <td>n</td>\n",
       "      <td>f</td>\n",
       "      <td>c</td>\n",
       "      <td>b</td>\n",
       "      <td>b</td>\n",
       "      <td>...</td>\n",
       "      <td>s</td>\n",
       "      <td>w</td>\n",
       "      <td>w</td>\n",
       "      <td>p</td>\n",
       "      <td>w</td>\n",
       "      <td>o</td>\n",
       "      <td>p</td>\n",
       "      <td>w</td>\n",
       "      <td>v</td>\n",
       "      <td>d</td>\n",
       "    </tr>\n",
       "    <tr>\n",
       "      <th>freq</th>\n",
       "      <td>4208</td>\n",
       "      <td>3656</td>\n",
       "      <td>3244</td>\n",
       "      <td>2284</td>\n",
       "      <td>4748</td>\n",
       "      <td>3528</td>\n",
       "      <td>7914</td>\n",
       "      <td>6812</td>\n",
       "      <td>5612</td>\n",
       "      <td>1728</td>\n",
       "      <td>...</td>\n",
       "      <td>4936</td>\n",
       "      <td>4464</td>\n",
       "      <td>4384</td>\n",
       "      <td>8124</td>\n",
       "      <td>7924</td>\n",
       "      <td>7488</td>\n",
       "      <td>3968</td>\n",
       "      <td>2388</td>\n",
       "      <td>4040</td>\n",
       "      <td>3148</td>\n",
       "    </tr>\n",
       "  </tbody>\n",
       "</table>\n",
       "<p>4 rows × 23 columns</p>\n",
       "</div>"
      ],
      "text/plain": [
       "       class cap-shape cap-surface cap-color bruises  odor gill-attachment  \\\n",
       "count   8124      8124        8124      8124    8124  8124            8124   \n",
       "unique     2         6           4        10       2     9               2   \n",
       "top        e         x           y         n       f     n               f   \n",
       "freq    4208      3656        3244      2284    4748  3528            7914   \n",
       "\n",
       "       gill-spacing gill-size gill-color  ... stalk-surface-below-ring  \\\n",
       "count          8124      8124       8124  ...                     8124   \n",
       "unique            2         2         12  ...                        4   \n",
       "top               c         b          b  ...                        s   \n",
       "freq           6812      5612       1728  ...                     4936   \n",
       "\n",
       "       stalk-color-above-ring stalk-color-below-ring veil-type veil-color  \\\n",
       "count                    8124                   8124      8124       8124   \n",
       "unique                      9                      9         1          4   \n",
       "top                         w                      w         p          w   \n",
       "freq                     4464                   4384      8124       7924   \n",
       "\n",
       "       ring-number ring-type spore-print-color population habitat  \n",
       "count         8124      8124              8124       8124    8124  \n",
       "unique           3         5                 9          6       7  \n",
       "top              o         p                 w          v       d  \n",
       "freq          7488      3968              2388       4040    3148  \n",
       "\n",
       "[4 rows x 23 columns]"
      ]
     },
     "execution_count": 4,
     "metadata": {},
     "output_type": "execute_result"
    }
   ],
   "source": [
    "data.describe()"
   ]
  },
  {
   "cell_type": "code",
   "execution_count": 5,
   "id": "several-plaza",
   "metadata": {},
   "outputs": [
    {
     "name": "stdout",
     "output_type": "stream",
     "text": [
      "<class 'pandas.core.frame.DataFrame'>\n",
      "RangeIndex: 8124 entries, 0 to 8123\n",
      "Data columns (total 23 columns):\n",
      " #   Column                    Non-Null Count  Dtype \n",
      "---  ------                    --------------  ----- \n",
      " 0   class                     8124 non-null   object\n",
      " 1   cap-shape                 8124 non-null   object\n",
      " 2   cap-surface               8124 non-null   object\n",
      " 3   cap-color                 8124 non-null   object\n",
      " 4   bruises                   8124 non-null   object\n",
      " 5   odor                      8124 non-null   object\n",
      " 6   gill-attachment           8124 non-null   object\n",
      " 7   gill-spacing              8124 non-null   object\n",
      " 8   gill-size                 8124 non-null   object\n",
      " 9   gill-color                8124 non-null   object\n",
      " 10  stalk-shape               8124 non-null   object\n",
      " 11  stalk-root                8124 non-null   object\n",
      " 12  stalk-surface-above-ring  8124 non-null   object\n",
      " 13  stalk-surface-below-ring  8124 non-null   object\n",
      " 14  stalk-color-above-ring    8124 non-null   object\n",
      " 15  stalk-color-below-ring    8124 non-null   object\n",
      " 16  veil-type                 8124 non-null   object\n",
      " 17  veil-color                8124 non-null   object\n",
      " 18  ring-number               8124 non-null   object\n",
      " 19  ring-type                 8124 non-null   object\n",
      " 20  spore-print-color         8124 non-null   object\n",
      " 21  population                8124 non-null   object\n",
      " 22  habitat                   8124 non-null   object\n",
      "dtypes: object(23)\n",
      "memory usage: 1.4+ MB\n"
     ]
    }
   ],
   "source": [
    "data.info()"
   ]
  },
  {
   "cell_type": "code",
   "execution_count": 6,
   "id": "twelve-recycling",
   "metadata": {},
   "outputs": [
    {
     "data": {
      "image/png": "[encoded data removed]",
      "text/plain": [
       "<Figure size 432x288 with 1 Axes>"
      ]
     },
     "metadata": {
      "needs_background": "light"
     },
     "output_type": "display_data"
    }
   ],
   "source": [
    "sns.countplot(x=\"class\", data=data, palette=('#9b111e','#50c878'))\n",
    "plt.title('Mushrooms Poisonous v/s Edible', fontsize=14)\n",
    "plt.xlabel(\"Mushroom Type\", fontsize=12)\n",
    "plt.ylabel(\"Count\", fontsize=12)\n",
    "plt.show()"
   ]
  },
  {
   "cell_type": "markdown",
   "id": "narrative-pitch",
   "metadata": {},
   "source": [
    "### Cap Shape"
   ]
  },
  {
   "cell_type": "code",
   "execution_count": 7,
   "id": "integral-drink",
   "metadata": {},
   "outputs": [
    {
     "data": {
      "image/png": "[encoded data removed]",
      "text/plain": [
       "<Figure size 864x360 with 2 Axes>"
      ]
     },
     "metadata": {
      "needs_background": "light"
     },
     "output_type": "display_data"
    }
   ],
   "source": [
    "col = \"cap-shape\"\n",
    "fig,ax = plt.subplots(nrows=1,ncols=2,figsize=(12,5))\n",
    "sns.countplot(data=data,x=col,order=data[col].value_counts().index,ax=ax[0],palette=\"magma\")\n",
    "ax[0].set_title(f\"{col.capitalize()} Distribution\")\n",
    "sns.countplot(data=data,x=col,hue='class',order=data[col].value_counts().index,ax=ax[1],palette=('#9b111e','#50c878'))\n",
    "ax[1].set_title(f\"Poisonous & Edible Mushroom Based On {col.capitalize()}\");"
   ]
  },
  {
   "cell_type": "markdown",
   "id": "medical-bangladesh",
   "metadata": {},
   "source": [
    "* Observations:\n",
    "\n",
    "Convex(x) & flat(f) cap shaped mushrooms are more in dataset.\n",
    "\n",
    "Bell(b) cap shape has more edible mushrooms.\n",
    "\n",
    "Knobbed(k) cap shape has more poisonous mushroom.\n",
    "\n",
    "Sunken(s) cap shape has only edible mushroom whereas Conical(c) cap shape has only poisonous mushrooms."
   ]
  },
  {
   "cell_type": "markdown",
   "id": "prepared-improvement",
   "metadata": {},
   "source": [
    "### Cap Surface"
   ]
  },
  {
   "cell_type": "code",
   "execution_count": 8,
   "id": "returning-filter",
   "metadata": {},
   "outputs": [
    {
     "data": {
      "image/png": "[encoded data removed]",
      "text/plain": [
       "<Figure size 864x360 with 2 Axes>"
      ]
     },
     "metadata": {
      "needs_background": "light"
     },
     "output_type": "display_data"
    }
   ],
   "source": [
    "col = \"cap-surface\"\n",
    "fig,ax = plt.subplots(nrows=1,ncols=2,figsize=(12,5))\n",
    "sns.countplot(data=data,x=col,order=data[col].value_counts().index,ax=ax[0],palette=\"magma\")\n",
    "ax[0].set_title(f\"{col.capitalize()} Distribution\")\n",
    "sns.countplot(data=data,x=col,hue='class',order=data[col].value_counts().index,ax=ax[1],palette=('#9b111e','#50c878'))\n",
    "ax[1].set_title(f\"Poisonous & Edible Mushroom Based On {col.capitalize()}\");"
   ]
  },
  {
   "cell_type": "markdown",
   "id": "union-apache",
   "metadata": {},
   "source": [
    "* Observations:\n",
    "\n",
    "Smooth(s) & Scaly(y) cap surface mushrooms has more poisonous mushroom whereas Fibrous(f) cap surface mushrooms has more edible mushrooms.\n",
    "\n",
    "Grooves(g) cap surface mushrooms has only poisonous mushrooms and are very less in numbers."
   ]
  },
  {
   "cell_type": "markdown",
   "id": "accurate-session",
   "metadata": {},
   "source": [
    "### Cap Color"
   ]
  },
  {
   "cell_type": "code",
   "execution_count": 9,
   "id": "congressional-mission",
   "metadata": {},
   "outputs": [
    {
     "data": {
      "image/png": "[encoded data removed]",
      "text/plain": [
       "<Figure size 864x360 with 2 Axes>"
      ]
     },
     "metadata": {
      "needs_background": "light"
     },
     "output_type": "display_data"
    }
   ],
   "source": [
    "col = \"cap-color\"\n",
    "fig,ax = plt.subplots(nrows=1,ncols=2,figsize=(12,5))\n",
    "sns.countplot(data=data,x=col,order=data[col].value_counts().index,ax=ax[0],palette=\"magma\")\n",
    "ax[0].set_title(f\"{col.capitalize()} Distribution\")\n",
    "sns.countplot(data=data,x=col,hue='class',order=data[col].value_counts().index,ax=ax[1],palette=('#9b111e','#50c878'))\n",
    "ax[1].set_title(f\"Poisonous & Edible Mushroom Based On {col.capitalize()}\");"
   ]
  },
  {
   "cell_type": "markdown",
   "id": "white-campbell",
   "metadata": {},
   "source": [
    "* Observations:\n",
    "\n",
    "Brown(n) colored mushrooms are more in number followed by gray(g) & red(e)\n",
    "\n",
    "Most of the brown(n), white(w) & gray(g) colored mushrooms are edible whereas most of the red(e), yellow(y) colored mushrooms are poisonous.\n",
    "\n",
    "All purple(u) & green(r) colored mushrooms are edible but they are less in numbers."
   ]
  },
  {
   "cell_type": "markdown",
   "id": "heard-quilt",
   "metadata": {},
   "source": [
    "### Bruises"
   ]
  },
  {
   "cell_type": "code",
   "execution_count": 10,
   "id": "forced-workshop",
   "metadata": {},
   "outputs": [
    {
     "data": {
      "image/png": "[encoded data removed]",
      "text/plain": [
       "<Figure size 864x360 with 2 Axes>"
      ]
     },
     "metadata": {
      "needs_background": "light"
     },
     "output_type": "display_data"
    }
   ],
   "source": [
    "col = \"bruises\"\n",
    "fig,ax = plt.subplots(nrows=1,ncols=2,figsize=(12,5))\n",
    "sns.countplot(data=data,x=col,order=data[col].value_counts().index,ax=ax[0],palette=\"magma\")\n",
    "ax[0].set_title(f\"{col.capitalize()} Distribution\")\n",
    "sns.countplot(data=data,x=col,hue='class',order=data[col].value_counts().index,ax=ax[1],palette=('#9b111e','#50c878'))\n",
    "ax[1].set_title(f\"Poisonous & Edible Mushroom Based On {col.capitalize()}\");"
   ]
  },
  {
   "cell_type": "markdown",
   "id": "sporting-printing",
   "metadata": {},
   "source": [
    "* Observations:\n",
    "\n",
    "We have more number of mushrooms that does not bruise(f) at all.\n",
    "\n",
    "Mushrooms that bruises, having said there high % that they are edible, where mushrooms that does not bruise(f), most of them are poisonous.\n",
    "\n",
    "Also, note that, not all bruised(t) mushrooms are edible and vice versa. There are other factors involved in it. But we can say what bruise can be one of the important feature while predicting class."
   ]
  },
  {
   "cell_type": "markdown",
   "id": "satisfactory-benjamin",
   "metadata": {},
   "source": [
    "### Odor"
   ]
  },
  {
   "cell_type": "code",
   "execution_count": 11,
   "id": "relative-association",
   "metadata": {},
   "outputs": [
    {
     "data": {
      "image/png": "[encoded data removed]",
      "text/plain": [
       "<Figure size 864x360 with 2 Axes>"
      ]
     },
     "metadata": {
      "needs_background": "light"
     },
     "output_type": "display_data"
    }
   ],
   "source": [
    "col = \"odor\"\n",
    "fig,ax = plt.subplots(nrows=1,ncols=2,figsize=(12,5))\n",
    "sns.countplot(data=data,x=col,order=data[col].value_counts().index,ax=ax[0],palette=\"magma\")\n",
    "ax[0].set_title(f\"{col.capitalize()} Distribution\")\n",
    "sns.countplot(data=data,x=col,hue='class',order=data[col].value_counts().index,ax=ax[1],palette=('#9b111e','#50c878'))\n",
    "ax[1].set_title(f\"Poisonous & Edible Mushroom Based On {col.capitalize()}\");"
   ]
  },
  {
   "cell_type": "markdown",
   "id": "fitted-costume",
   "metadata": {},
   "source": [
    "* Observations:\n",
    "\n",
    "Mushrooms with no odor(n) and foul(f) odor are more in mumbers.\n",
    "\n",
    "It is very much clear that, all purgent(p), foul(f), creosote(c), fishy(y), spicy(s) and musty(m) odor mushrooms are poisonous.\n",
    "\n",
    "All almond(a) and anise(l) odor mushroom are edible.\n",
    "\n",
    "Mushroom with no odor(n) can be edible and poisonous. But from distribution we can say that most of them are edible\n",
    "\n",
    "Thus, Odor can be one of the most important feature while predicting the class of mushrooms."
   ]
  },
  {
   "cell_type": "markdown",
   "id": "major-solution",
   "metadata": {},
   "source": [
    "### Gill Attachment"
   ]
  },
  {
   "cell_type": "code",
   "execution_count": 12,
   "id": "exotic-pasta",
   "metadata": {},
   "outputs": [
    {
     "data": {
      "image/png": "[encoded data removed]",
      "text/plain": [
       "<Figure size 864x360 with 2 Axes>"
      ]
     },
     "metadata": {
      "needs_background": "light"
     },
     "output_type": "display_data"
    }
   ],
   "source": [
    "col = \"gill-attachment\"\n",
    "fig,ax = plt.subplots(nrows=1,ncols=2,figsize=(12,5))\n",
    "sns.countplot(data=data,x=col,order=data[col].value_counts().index,ax=ax[0],palette=\"magma\")\n",
    "ax[0].set_title(f\"{col.capitalize()} Distribution\")\n",
    "sns.countplot(data=data,x=col,hue='class',order=data[col].value_counts().index,ax=ax[1],palette=('#9b111e','#50c878'))\n",
    "ax[1].set_title(f\"Poisonous & Edible Mushroom Based On {col.capitalize()}\");"
   ]
  },
  {
   "cell_type": "markdown",
   "id": "guided-conviction",
   "metadata": {},
   "source": [
    "* Observations:\n",
    "\n",
    "Gill attachment type free(f) mushrooms are more in number\n",
    "\n",
    "All mushrooms with gill attachment type as attached(a) are edible.\n",
    "\n",
    "Not much difference in free(f) gill attachment mushrooms while classifying them as edible or poisonous."
   ]
  },
  {
   "cell_type": "markdown",
   "id": "amino-philip",
   "metadata": {},
   "source": [
    "### Gill Spacing"
   ]
  },
  {
   "cell_type": "code",
   "execution_count": 13,
   "id": "hawaiian-yesterday",
   "metadata": {},
   "outputs": [
    {
     "data": {
      "image/png": "[encoded data removed]",
      "text/plain": [
       "<Figure size 864x360 with 2 Axes>"
      ]
     },
     "metadata": {
      "needs_background": "light"
     },
     "output_type": "display_data"
    }
   ],
   "source": [
    "col = \"gill-spacing\"\n",
    "fig,ax = plt.subplots(nrows=1,ncols=2,figsize=(12,5))\n",
    "sns.countplot(data=data,x=col,order=data[col].value_counts().index,ax=ax[0],palette=\"magma\")\n",
    "ax[0].set_title(f\"{col.capitalize()} Distribution\")\n",
    "sns.countplot(data=data,x=col,hue='class',order=data[col].value_counts().index,ax=ax[1],palette=('#9b111e','#50c878'))\n",
    "ax[1].set_title(f\"Poisonous & Edible Mushroom Based On {col.capitalize()}\");"
   ]
  },
  {
   "cell_type": "markdown",
   "id": "ongoing-intelligence",
   "metadata": {},
   "source": [
    "* Observations:\n",
    "\n",
    "Closed(c) gill spacing mushrooms are more in number.\n",
    "\n",
    "Most of the wide(w) gill spacing mushrooms are edible."
   ]
  },
  {
   "cell_type": "markdown",
   "id": "breeding-pioneer",
   "metadata": {},
   "source": [
    "### Gill Size"
   ]
  },
  {
   "cell_type": "code",
   "execution_count": 14,
   "id": "played-spine",
   "metadata": {},
   "outputs": [
    {
     "data": {
      "image/png": "[encoded data removed]",
      "text/plain": [
       "<Figure size 864x360 with 2 Axes>"
      ]
     },
     "metadata": {
      "needs_background": "light"
     },
     "output_type": "display_data"
    }
   ],
   "source": [
    "col = \"gill-size\"\n",
    "fig,ax = plt.subplots(nrows=1,ncols=2,figsize=(12,5))\n",
    "sns.countplot(data=data,x=col,order=data[col].value_counts().index,ax=ax[0],palette=\"magma\")\n",
    "ax[0].set_title(f\"{col.capitalize()} Distribution\")\n",
    "sns.countplot(data=data,x=col,hue='class',order=data[col].value_counts().index,ax=ax[1],palette=('#9b111e','#50c878'))\n",
    "ax[1].set_title(f\"Poisonous & Edible Mushroom Based On {col.capitalize()}\");"
   ]
  },
  {
   "cell_type": "markdown",
   "id": "small-delta",
   "metadata": {},
   "source": [
    "* Observations:\n",
    "\n",
    "Overall broad(b) gill size mushrooms are more in number.\n",
    "\n",
    "Most of the narrow(n) gill size mushrooms are poisonous whereas most of the broad(b) gill size mushrooms are edible."
   ]
  },
  {
   "cell_type": "markdown",
   "id": "southeast-slope",
   "metadata": {},
   "source": [
    "### Gill Color"
   ]
  },
  {
   "cell_type": "code",
   "execution_count": 15,
   "id": "pressing-clause",
   "metadata": {},
   "outputs": [
    {
     "data": {
      "image/png": "[encoded data removed]",
      "text/plain": [
       "<Figure size 864x360 with 2 Axes>"
      ]
     },
     "metadata": {
      "needs_background": "light"
     },
     "output_type": "display_data"
    }
   ],
   "source": [
    "col = \"gill-color\"\n",
    "fig,ax = plt.subplots(nrows=1,ncols=2,figsize=(12,5))\n",
    "sns.countplot(data=data,x=col,order=data[col].value_counts().index,ax=ax[0],palette=\"magma\")\n",
    "ax[0].set_title(f\"{col.capitalize()} Distribution\")\n",
    "sns.countplot(data=data,x=col,hue='class',order=data[col].value_counts().index,ax=ax[1],palette=('#9b111e','#50c878'))\n",
    "ax[1].set_title(f\"Poisonous & Edible Mushroom Based On {col.capitalize()}\");"
   ]
  },
  {
   "cell_type": "markdown",
   "id": "biological-assets",
   "metadata": {},
   "source": [
    "* Observations:\n",
    "\n",
    "Buff(b) gill color mushrooms are more in number followed by pink(p) & white(w)\n",
    "\n",
    "All buff(b) gill colored mushrooms are poisonous. Also, all green(r) gill color mushrooms are poisonous.\n",
    "\n",
    "All red(e) and orange gill color muhsrooms are edible."
   ]
  },
  {
   "cell_type": "markdown",
   "id": "parental-daisy",
   "metadata": {},
   "source": [
    "### Stalk Shape"
   ]
  },
  {
   "cell_type": "code",
   "execution_count": 16,
   "id": "urban-organizer",
   "metadata": {},
   "outputs": [
    {
     "data": {
      "image/png": "[encoded data removed]",
      "text/plain": [
       "<Figure size 864x360 with 2 Axes>"
      ]
     },
     "metadata": {
      "needs_background": "light"
     },
     "output_type": "display_data"
    }
   ],
   "source": [
    "col = \"stalk-shape\"\n",
    "fig,ax = plt.subplots(nrows=1,ncols=2,figsize=(12,5))\n",
    "sns.countplot(data=data,x=col,order=data[col].value_counts().index,ax=ax[0],palette=\"magma\")\n",
    "ax[0].set_title(f\"{col.capitalize()} Distribution\")\n",
    "sns.countplot(data=data,x=col,hue='class',order=data[col].value_counts().index,ax=ax[1],palette=('#9b111e','#50c878'))\n",
    "ax[1].set_title(f\"Poisonous & Edible Mushroom Based On {col.capitalize()}\");"
   ]
  },
  {
   "cell_type": "markdown",
   "id": "competent-ethiopia",
   "metadata": {},
   "source": [
    "* Observations:\n",
    "\n",
    "Tapering(t) stalk shape mushrooms are slightly more than enlarging(e) stalk shaped one.\n",
    "\n",
    "There no significant difference while considering class of mushroom. Enlarging(e) stalk shape mushrooms are more poisonous whereas tapering(t) ones are more edible."
   ]
  },
  {
   "cell_type": "markdown",
   "id": "dedicated-fashion",
   "metadata": {},
   "source": [
    "### Stalk Surface Above Ring"
   ]
  },
  {
   "cell_type": "code",
   "execution_count": 17,
   "id": "civil-jonathan",
   "metadata": {},
   "outputs": [
    {
     "data": {
      "image/png": "[encoded data removed]",
      "text/plain": [
       "<Figure size 864x360 with 2 Axes>"
      ]
     },
     "metadata": {
      "needs_background": "light"
     },
     "output_type": "display_data"
    }
   ],
   "source": [
    "col = \"stalk-surface-above-ring\"\n",
    "fig,ax = plt.subplots(nrows=1,ncols=2,figsize=(12,5))\n",
    "sns.countplot(data=data,x=col,order=data[col].value_counts().index,ax=ax[0],palette=\"magma\")\n",
    "ax[0].set_title(f\"{col.capitalize()} Distribution\")\n",
    "sns.countplot(data=data,x=col,hue='class',order=data[col].value_counts().index,ax=ax[1],palette=('#9b111e','#50c878'))\n",
    "ax[1].set_title(f\"Poisonous & Edible Mushroom Based On {col.capitalize()}\");"
   ]
  },
  {
   "cell_type": "markdown",
   "id": "dominican-rubber",
   "metadata": {},
   "source": [
    "* Observations:\n",
    "\n",
    "Smooth(s) stalk surface above ring mushrooms are more and scaly(y) surface ones are very very less in numbers.\n",
    "\n",
    "Most of the smooth(s) stalk surface above ring mushrooms are edible.\n",
    "\n",
    "Mostof the silky(k) stalk surface above ring mushrooms are poisonous."
   ]
  },
  {
   "cell_type": "markdown",
   "id": "portable-darkness",
   "metadata": {},
   "source": [
    "### Stalk Surface Below Ring"
   ]
  },
  {
   "cell_type": "code",
   "execution_count": 18,
   "id": "characteristic-threat",
   "metadata": {},
   "outputs": [
    {
     "data": {
      "image/png": "[encoded data removed]",
      "text/plain": [
       "<Figure size 864x360 with 2 Axes>"
      ]
     },
     "metadata": {
      "needs_background": "light"
     },
     "output_type": "display_data"
    }
   ],
   "source": [
    "col = \"stalk-surface-below-ring\"\n",
    "fig,ax = plt.subplots(nrows=1,ncols=2,figsize=(12,5))\n",
    "sns.countplot(data=data,x=col,order=data[col].value_counts().index,ax=ax[0],palette=\"magma\")\n",
    "ax[0].set_title(f\"{col.capitalize()} Distribution\")\n",
    "sns.countplot(data=data,x=col,hue='class',order=data[col].value_counts().index,ax=ax[1],palette=('#9b111e','#50c878'))\n",
    "ax[1].set_title(f\"Poisonous & Edible Mushroom Based On {col.capitalize()}\");"
   ]
  },
  {
   "cell_type": "markdown",
   "id": "given-bennett",
   "metadata": {},
   "source": [
    "* Observations\n",
    "\n",
    "Smooth(s) stalk surface below ring mushrooms are more followed by scaly(y) surface mushrooms.\n",
    "\n",
    "Most of the smooth(s) stalk surface below ring mushrooms are edible.\n",
    "\n",
    "Most of the silky(k) stalk surface above ring mushrooms are poisonous"
   ]
  },
  {
   "cell_type": "markdown",
   "id": "spectacular-channel",
   "metadata": {},
   "source": [
    "* From Stalk Surface Above & Below Ring:\n",
    "\n",
    "Most of the smooth(s) gill surface above & below ring mushrooms are edible.\n",
    "\n",
    "Most of the silky(k) gill surface above & below ring mushrooms are poisonous."
   ]
  },
  {
   "cell_type": "markdown",
   "id": "pending-devices",
   "metadata": {},
   "source": [
    "### Stalk Color Above Ring"
   ]
  },
  {
   "cell_type": "code",
   "execution_count": 19,
   "id": "polished-contrast",
   "metadata": {},
   "outputs": [
    {
     "data": {
      "image/png": "[encoded data removed]",
      "text/plain": [
       "<Figure size 864x360 with 2 Axes>"
      ]
     },
     "metadata": {
      "needs_background": "light"
     },
     "output_type": "display_data"
    }
   ],
   "source": [
    "col = \"stalk-color-above-ring\"\n",
    "fig,ax = plt.subplots(nrows=1,ncols=2,figsize=(12,5))\n",
    "sns.countplot(data=data,x=col,order=data[col].value_counts().index,ax=ax[0],palette=\"magma\")\n",
    "ax[0].set_title(f\"{col.capitalize()} Distribution\")\n",
    "sns.countplot(data=data,x=col,hue='class',order=data[col].value_counts().index,ax=ax[1],palette=('#9b111e','#50c878'))\n",
    "ax[1].set_title(f\"Poisonous & Edible Mushroom Based On {col.capitalize()}\");"
   ]
  },
  {
   "cell_type": "markdown",
   "id": "inappropriate-composer",
   "metadata": {},
   "source": [
    "* Observations:\n",
    "\n",
    "White(w) stalk color above ring mushrooms are more in numbers.\n",
    "\n",
    "Most of the white(w) stalk color above ring mushrooms are edible.\n",
    "\n",
    "Most of the pink(p) stalk color above ring mushrooms are poisonous."
   ]
  },
  {
   "cell_type": "markdown",
   "id": "verbal-schedule",
   "metadata": {},
   "source": [
    "### Stalk Color Below Ring"
   ]
  },
  {
   "cell_type": "code",
   "execution_count": 20,
   "id": "documentary-ownership",
   "metadata": {},
   "outputs": [
    {
     "data": {
      "image/png": "[encoded data removed]",
      "text/plain": [
       "<Figure size 864x360 with 2 Axes>"
      ]
     },
     "metadata": {
      "needs_background": "light"
     },
     "output_type": "display_data"
    }
   ],
   "source": [
    "col = \"stalk-color-below-ring\"\n",
    "fig,ax = plt.subplots(nrows=1,ncols=2,figsize=(12,5))\n",
    "sns.countplot(data=data,x=col,order=data[col].value_counts().index,ax=ax[0],palette=\"magma\")\n",
    "ax[0].set_title(f\"{col.capitalize()} Distribution\")\n",
    "sns.countplot(data=data,x=col,hue='class',order=data[col].value_counts().index,ax=ax[1],palette=('#9b111e','#50c878'))\n",
    "ax[1].set_title(f\"Poisonous & Edible Mushroom Based On {col.capitalize()}\");"
   ]
  },
  {
   "cell_type": "markdown",
   "id": "public-shakespeare",
   "metadata": {},
   "source": [
    "* Observations:\n",
    "\n",
    "White(w) stalk color below ring mushrooms are more in numbers.\n",
    "\n",
    "Most of the white(w) stalk color below ring mushrooms are edible.\n",
    "\n",
    "Most of the pink(p) stalk color below ring mushrooms are poisonous."
   ]
  },
  {
   "cell_type": "markdown",
   "id": "reasonable-victim",
   "metadata": {},
   "source": [
    "### Veil Type"
   ]
  },
  {
   "cell_type": "code",
   "execution_count": 21,
   "id": "proprietary-mustang",
   "metadata": {},
   "outputs": [
    {
     "data": {
      "image/png": "[encoded data removed]",
      "text/plain": [
       "<Figure size 864x360 with 2 Axes>"
      ]
     },
     "metadata": {
      "needs_background": "light"
     },
     "output_type": "display_data"
    }
   ],
   "source": [
    "col = \"veil-type\"\n",
    "fig,ax = plt.subplots(nrows=1,ncols=2,figsize=(12,5))\n",
    "sns.countplot(data=data,x=col,order=data[col].value_counts().index,ax=ax[0],palette=\"magma\")\n",
    "ax[0].set_title(f\"{col.capitalize()} Distribution\")\n",
    "sns.countplot(data=data,x=col,hue='class',order=data[col].value_counts().index,ax=ax[1],palette=('#9b111e','#50c878'))\n",
    "ax[1].set_title(f\"Poisonous & Edible Mushroom Based On {col.capitalize()}\");"
   ]
  },
  {
   "cell_type": "markdown",
   "id": "precise-toyota",
   "metadata": {},
   "source": [
    "* Observations:\n",
    "\n",
    "There is only one veil type(p) present in dataset ie partial(p).\n",
    "\n",
    "It is not significant data for classifying edible and poisonous mushroom.\n",
    "\n",
    "we can drop this column while modelling"
   ]
  },
  {
   "cell_type": "markdown",
   "id": "prospective-tradition",
   "metadata": {},
   "source": [
    "### Veil Color"
   ]
  },
  {
   "cell_type": "code",
   "execution_count": 22,
   "id": "empirical-plenty",
   "metadata": {},
   "outputs": [
    {
     "data": {
      "image/png": "[encoded data removed]",
      "text/plain": [
       "<Figure size 864x360 with 2 Axes>"
      ]
     },
     "metadata": {
      "needs_background": "light"
     },
     "output_type": "display_data"
    }
   ],
   "source": [
    "col = \"veil-color\"\n",
    "fig,ax = plt.subplots(nrows=1,ncols=2,figsize=(12,5))\n",
    "sns.countplot(data=data,x=col,order=data[col].value_counts().index,ax=ax[0],palette=\"magma\")\n",
    "ax[0].set_title(f\"{col.capitalize()} Distribution\")\n",
    "sns.countplot(data=data,x=col,hue='class',order=data[col].value_counts().index,ax=ax[1],palette=('#9b111e','#50c878'))\n",
    "ax[1].set_title(f\"Poisonous & Edible Mushroom Based On {col.capitalize()}\");"
   ]
  },
  {
   "cell_type": "markdown",
   "id": "raised-python",
   "metadata": {},
   "source": [
    "* Observations:\n",
    "\n",
    "More 90% White(w) veil color mushrooms are present in dataset.\n",
    "\n",
    "There is no significant difference while classifying white(w) veil color mushrooms in to edible and poisonous."
   ]
  },
  {
   "cell_type": "markdown",
   "id": "synthetic-quick",
   "metadata": {},
   "source": [
    "### Ring Number"
   ]
  },
  {
   "cell_type": "code",
   "execution_count": 23,
   "id": "applicable-lecture",
   "metadata": {},
   "outputs": [
    {
     "data": {
      "image/png": "[encoded data removed]",
      "text/plain": [
       "<Figure size 864x360 with 2 Axes>"
      ]
     },
     "metadata": {
      "needs_background": "light"
     },
     "output_type": "display_data"
    }
   ],
   "source": [
    "col = \"ring-number\"\n",
    "fig,ax = plt.subplots(nrows=1,ncols=2,figsize=(12,5))\n",
    "sns.countplot(data=data,x=col,order=data[col].value_counts().index,ax=ax[0],palette=\"magma\")\n",
    "ax[0].set_title(f\"{col.capitalize()} Distribution\")\n",
    "sns.countplot(data=data,x=col,hue='class',order=data[col].value_counts().index,ax=ax[1],palette=('#9b111e','#50c878'))\n",
    "ax[1].set_title(f\"Poisonous & Edible Mushroom Based On {col.capitalize()}\");"
   ]
  },
  {
   "cell_type": "markdown",
   "id": "frequent-pontiac",
   "metadata": {},
   "source": [
    "* Observations:\n",
    "\n",
    "1(o) ring number mushrooms are more in number and hard to classify.\n",
    "\n",
    "No ring(n) mushrooms are very less in numbers and all of them are poisonous.\n",
    "\n",
    "2(t) ring number mushrooms are mostly edible."
   ]
  },
  {
   "cell_type": "markdown",
   "id": "standard-buffalo",
   "metadata": {},
   "source": [
    "### Ring Type"
   ]
  },
  {
   "cell_type": "code",
   "execution_count": 24,
   "id": "anticipated-concert",
   "metadata": {},
   "outputs": [
    {
     "data": {
      "image/png": "[encoded data removed]",
      "text/plain": [
       "<Figure size 864x360 with 2 Axes>"
      ]
     },
     "metadata": {
      "needs_background": "light"
     },
     "output_type": "display_data"
    }
   ],
   "source": [
    "col = \"ring-type\"\n",
    "fig,ax = plt.subplots(nrows=1,ncols=2,figsize=(12,5))\n",
    "sns.countplot(data=data,x=col,order=data[col].value_counts().index,ax=ax[0],palette=\"magma\")\n",
    "ax[0].set_title(f\"{col.capitalize()} Distribution\")\n",
    "sns.countplot(data=data,x=col,hue='class',order=data[col].value_counts().index,ax=ax[1],palette=('#9b111e','#50c878'))\n",
    "ax[1].set_title(f\"Poisonous & Edible Mushroom Based On {col.capitalize()}\");"
   ]
  },
  {
   "cell_type": "markdown",
   "id": "entertaining-corpus",
   "metadata": {},
   "source": [
    "* Observations:\n",
    "\n",
    "Pendant(p) ring type mushrooms are more in number and most of them are edible.\n",
    "\n",
    "All large(l) ring type mushrooms are poisonous."
   ]
  },
  {
   "cell_type": "markdown",
   "id": "general-scholar",
   "metadata": {},
   "source": [
    "### Spore Print Color "
   ]
  },
  {
   "cell_type": "code",
   "execution_count": 25,
   "id": "female-painting",
   "metadata": {},
   "outputs": [
    {
     "data": {
      "image/png": "[encoded data removed]",
      "text/plain": [
       "<Figure size 864x360 with 2 Axes>"
      ]
     },
     "metadata": {
      "needs_background": "light"
     },
     "output_type": "display_data"
    }
   ],
   "source": [
    "col = \"spore-print-color\"\n",
    "fig,ax = plt.subplots(nrows=1,ncols=2,figsize=(12,5))\n",
    "sns.countplot(data=data,x=col,order=data[col].value_counts().index,ax=ax[0],palette=\"magma\")\n",
    "ax[0].set_title(f\"{col.capitalize()} Distribution\")\n",
    "sns.countplot(data=data,x=col,hue='class',order=data[col].value_counts().index,ax=ax[1],palette=('#9b111e','#50c878'))\n",
    "ax[1].set_title(f\"Poisonous & Edible Mushroom Based On {col.capitalize()}\");"
   ]
  },
  {
   "cell_type": "markdown",
   "id": "uniform-absence",
   "metadata": {},
   "source": [
    "* Observations:\n",
    "\n",
    "White(w) spore print color mushrooms are more followed by brown(n), black(k) & chocolate(h)\n",
    "\n",
    "More than 80% of black(k) & brown(n) spore print color mushrooms are edible.\n",
    "\n",
    "More than 80% of white(w) & chocolate(h) spore print color mushrooms are poisonous.\n",
    "\n",
    "This can also be one of the most important feature while classifying mushroom"
   ]
  },
  {
   "cell_type": "markdown",
   "id": "negative-proceeding",
   "metadata": {},
   "source": [
    "### Population"
   ]
  },
  {
   "cell_type": "code",
   "execution_count": 26,
   "id": "focal-allowance",
   "metadata": {},
   "outputs": [
    {
     "data": {
      "image/png": "[encoded data removed]",
      "text/plain": [
       "<Figure size 864x360 with 2 Axes>"
      ]
     },
     "metadata": {
      "needs_background": "light"
     },
     "output_type": "display_data"
    }
   ],
   "source": [
    "col = \"population\"\n",
    "fig,ax = plt.subplots(nrows=1,ncols=2,figsize=(12,5))\n",
    "sns.countplot(data=data,x=col,order=data[col].value_counts().index,ax=ax[0],palette=\"magma\")\n",
    "ax[0].set_title(f\"{col.capitalize()} Distribution\")\n",
    "sns.countplot(data=data,x=col,hue='class',order=data[col].value_counts().index,ax=ax[1],palette=('#9b111e','#50c878'))\n",
    "ax[1].set_title(f\"Poisonous & Edible Mushroom Based On {col.capitalize()}\");"
   ]
  },
  {
   "cell_type": "markdown",
   "id": "impaired-constitution",
   "metadata": {},
   "source": [
    "* Observations:\n",
    "\n",
    "Population type several(p) mushrooms are more in numbers and most of them are poisonous.\n",
    "\n",
    "All numerous(n) and abundant(a) population type mushrooms are edible.\n",
    "\n",
    "Most of the scattered(s) & solitary(y) & clustered(c) mushrooms are also edible."
   ]
  },
  {
   "cell_type": "markdown",
   "id": "muslim-drilling",
   "metadata": {},
   "source": [
    "### Habitat"
   ]
  },
  {
   "cell_type": "code",
   "execution_count": 27,
   "id": "supposed-booking",
   "metadata": {},
   "outputs": [
    {
     "data": {
      "image/png": "[encoded data removed]",
      "text/plain": [
       "<Figure size 864x360 with 2 Axes>"
      ]
     },
     "metadata": {
      "needs_background": "light"
     },
     "output_type": "display_data"
    }
   ],
   "source": [
    "col = \"habitat\"\n",
    "fig,ax = plt.subplots(nrows=1,ncols=2,figsize=(12,5))\n",
    "sns.countplot(data=data,x=col,order=data[col].value_counts().index,ax=ax[0],palette=\"magma\")\n",
    "ax[0].set_title(f\"{col.capitalize()} Distribution\")\n",
    "sns.countplot(data=data,x=col,hue='class',order=data[col].value_counts().index,ax=ax[1],palette=('#9b111e','#50c878'))\n",
    "ax[1].set_title(f\"Poisonous & Edible Mushroom Based On {col.capitalize()}\");"
   ]
  },
  {
   "cell_type": "markdown",
   "id": "incorporated-minneapolis",
   "metadata": {},
   "source": [
    "* Observations:\n",
    "\n",
    "Mushrooms those found in woods(d) are more in number and most of them are edible.\n",
    "\n",
    "Most of the mushrooms found in the grass(g) are also edible\n",
    "\n",
    "Also, all the mushrooms found on the waste(w) are edible."
   ]
  },
  {
   "cell_type": "code",
   "execution_count": 28,
   "id": "affiliated-wheel",
   "metadata": {},
   "outputs": [],
   "source": [
    "cat_cols = [\"cap-color\",\"cap-surface\",\"bruises\",\"odor\",\"gill-spacing\",\"gill-size\",\"gill-color\",\"stalk-surface-above-ring\",\"stalk-surface-below-ring\",\"stalk-color-above-ring\",\"stalk-color-below-ring\",\"ring-type\",\"spore-print-color\",\"population\",\"habitat\"]"
   ]
  },
  {
   "cell_type": "code",
   "execution_count": 29,
   "id": "surface-wales",
   "metadata": {},
   "outputs": [],
   "source": [
    "X = data.drop(\"class\",axis=1)\n",
    "y = data[\"class\"]"
   ]
  },
  {
   "cell_type": "markdown",
   "id": "musical-moses",
   "metadata": {},
   "source": [
    "# 1. Preprocessing with LabelEncoder"
   ]
  },
  {
   "cell_type": "code",
   "execution_count": 30,
   "id": "quiet-subject",
   "metadata": {},
   "outputs": [
    {
     "data": {
      "text/html": [
       "<div>\n",
       "<style scoped>\n",
       "    .dataframe tbody tr th:only-of-type {\n",
       "        vertical-align: middle;\n",
       "    }\n",
       "\n",
       "    .dataframe tbody tr th {\n",
       "        vertical-align: top;\n",
       "    }\n",
       "\n",
       "    .dataframe thead th {\n",
       "        text-align: right;\n",
       "    }\n",
       "</style>\n",
       "<table border=\"1\" class=\"dataframe\">\n",
       "  <thead>\n",
       "    <tr style=\"text-align: right;\">\n",
       "      <th></th>\n",
       "      <th>class</th>\n",
       "      <th>cap-shape</th>\n",
       "      <th>cap-surface</th>\n",
       "      <th>cap-color</th>\n",
       "      <th>bruises</th>\n",
       "      <th>odor</th>\n",
       "      <th>gill-attachment</th>\n",
       "      <th>gill-spacing</th>\n",
       "      <th>gill-size</th>\n",
       "      <th>gill-color</th>\n",
       "      <th>...</th>\n",
       "      <th>stalk-surface-below-ring</th>\n",
       "      <th>stalk-color-above-ring</th>\n",
       "      <th>stalk-color-below-ring</th>\n",
       "      <th>veil-type</th>\n",
       "      <th>veil-color</th>\n",
       "      <th>ring-number</th>\n",
       "      <th>ring-type</th>\n",
       "      <th>spore-print-color</th>\n",
       "      <th>population</th>\n",
       "      <th>habitat</th>\n",
       "    </tr>\n",
       "  </thead>\n",
       "  <tbody>\n",
       "    <tr>\n",
       "      <th>0</th>\n",
       "      <td>1</td>\n",
       "      <td>5</td>\n",
       "      <td>2</td>\n",
       "      <td>4</td>\n",
       "      <td>1</td>\n",
       "      <td>6</td>\n",
       "      <td>1</td>\n",
       "      <td>0</td>\n",
       "      <td>1</td>\n",
       "      <td>4</td>\n",
       "      <td>...</td>\n",
       "      <td>2</td>\n",
       "      <td>7</td>\n",
       "      <td>7</td>\n",
       "      <td>0</td>\n",
       "      <td>2</td>\n",
       "      <td>1</td>\n",
       "      <td>4</td>\n",
       "      <td>2</td>\n",
       "      <td>3</td>\n",
       "      <td>5</td>\n",
       "    </tr>\n",
       "    <tr>\n",
       "      <th>1</th>\n",
       "      <td>0</td>\n",
       "      <td>5</td>\n",
       "      <td>2</td>\n",
       "      <td>9</td>\n",
       "      <td>1</td>\n",
       "      <td>0</td>\n",
       "      <td>1</td>\n",
       "      <td>0</td>\n",
       "      <td>0</td>\n",
       "      <td>4</td>\n",
       "      <td>...</td>\n",
       "      <td>2</td>\n",
       "      <td>7</td>\n",
       "      <td>7</td>\n",
       "      <td>0</td>\n",
       "      <td>2</td>\n",
       "      <td>1</td>\n",
       "      <td>4</td>\n",
       "      <td>3</td>\n",
       "      <td>2</td>\n",
       "      <td>1</td>\n",
       "    </tr>\n",
       "    <tr>\n",
       "      <th>2</th>\n",
       "      <td>0</td>\n",
       "      <td>0</td>\n",
       "      <td>2</td>\n",
       "      <td>8</td>\n",
       "      <td>1</td>\n",
       "      <td>3</td>\n",
       "      <td>1</td>\n",
       "      <td>0</td>\n",
       "      <td>0</td>\n",
       "      <td>5</td>\n",
       "      <td>...</td>\n",
       "      <td>2</td>\n",
       "      <td>7</td>\n",
       "      <td>7</td>\n",
       "      <td>0</td>\n",
       "      <td>2</td>\n",
       "      <td>1</td>\n",
       "      <td>4</td>\n",
       "      <td>3</td>\n",
       "      <td>2</td>\n",
       "      <td>3</td>\n",
       "    </tr>\n",
       "    <tr>\n",
       "      <th>3</th>\n",
       "      <td>1</td>\n",
       "      <td>5</td>\n",
       "      <td>3</td>\n",
       "      <td>8</td>\n",
       "      <td>1</td>\n",
       "      <td>6</td>\n",
       "      <td>1</td>\n",
       "      <td>0</td>\n",
       "      <td>1</td>\n",
       "      <td>5</td>\n",
       "      <td>...</td>\n",
       "      <td>2</td>\n",
       "      <td>7</td>\n",
       "      <td>7</td>\n",
       "      <td>0</td>\n",
       "      <td>2</td>\n",
       "      <td>1</td>\n",
       "      <td>4</td>\n",
       "      <td>2</td>\n",
       "      <td>3</td>\n",
       "      <td>5</td>\n",
       "    </tr>\n",
       "    <tr>\n",
       "      <th>4</th>\n",
       "      <td>0</td>\n",
       "      <td>5</td>\n",
       "      <td>2</td>\n",
       "      <td>3</td>\n",
       "      <td>0</td>\n",
       "      <td>5</td>\n",
       "      <td>1</td>\n",
       "      <td>1</td>\n",
       "      <td>0</td>\n",
       "      <td>4</td>\n",
       "      <td>...</td>\n",
       "      <td>2</td>\n",
       "      <td>7</td>\n",
       "      <td>7</td>\n",
       "      <td>0</td>\n",
       "      <td>2</td>\n",
       "      <td>1</td>\n",
       "      <td>0</td>\n",
       "      <td>3</td>\n",
       "      <td>0</td>\n",
       "      <td>1</td>\n",
       "    </tr>\n",
       "    <tr>\n",
       "      <th>...</th>\n",
       "      <td>...</td>\n",
       "      <td>...</td>\n",
       "      <td>...</td>\n",
       "      <td>...</td>\n",
       "      <td>...</td>\n",
       "      <td>...</td>\n",
       "      <td>...</td>\n",
       "      <td>...</td>\n",
       "      <td>...</td>\n",
       "      <td>...</td>\n",
       "      <td>...</td>\n",
       "      <td>...</td>\n",
       "      <td>...</td>\n",
       "      <td>...</td>\n",
       "      <td>...</td>\n",
       "      <td>...</td>\n",
       "      <td>...</td>\n",
       "      <td>...</td>\n",
       "      <td>...</td>\n",
       "      <td>...</td>\n",
       "      <td>...</td>\n",
       "    </tr>\n",
       "    <tr>\n",
       "      <th>8119</th>\n",
       "      <td>0</td>\n",
       "      <td>3</td>\n",
       "      <td>2</td>\n",
       "      <td>4</td>\n",
       "      <td>0</td>\n",
       "      <td>5</td>\n",
       "      <td>0</td>\n",
       "      <td>0</td>\n",
       "      <td>0</td>\n",
       "      <td>11</td>\n",
       "      <td>...</td>\n",
       "      <td>2</td>\n",
       "      <td>5</td>\n",
       "      <td>5</td>\n",
       "      <td>0</td>\n",
       "      <td>1</td>\n",
       "      <td>1</td>\n",
       "      <td>4</td>\n",
       "      <td>0</td>\n",
       "      <td>1</td>\n",
       "      <td>2</td>\n",
       "    </tr>\n",
       "    <tr>\n",
       "      <th>8120</th>\n",
       "      <td>0</td>\n",
       "      <td>5</td>\n",
       "      <td>2</td>\n",
       "      <td>4</td>\n",
       "      <td>0</td>\n",
       "      <td>5</td>\n",
       "      <td>0</td>\n",
       "      <td>0</td>\n",
       "      <td>0</td>\n",
       "      <td>11</td>\n",
       "      <td>...</td>\n",
       "      <td>2</td>\n",
       "      <td>5</td>\n",
       "      <td>5</td>\n",
       "      <td>0</td>\n",
       "      <td>0</td>\n",
       "      <td>1</td>\n",
       "      <td>4</td>\n",
       "      <td>0</td>\n",
       "      <td>4</td>\n",
       "      <td>2</td>\n",
       "    </tr>\n",
       "    <tr>\n",
       "      <th>8121</th>\n",
       "      <td>0</td>\n",
       "      <td>2</td>\n",
       "      <td>2</td>\n",
       "      <td>4</td>\n",
       "      <td>0</td>\n",
       "      <td>5</td>\n",
       "      <td>0</td>\n",
       "      <td>0</td>\n",
       "      <td>0</td>\n",
       "      <td>5</td>\n",
       "      <td>...</td>\n",
       "      <td>2</td>\n",
       "      <td>5</td>\n",
       "      <td>5</td>\n",
       "      <td>0</td>\n",
       "      <td>1</td>\n",
       "      <td>1</td>\n",
       "      <td>4</td>\n",
       "      <td>0</td>\n",
       "      <td>1</td>\n",
       "      <td>2</td>\n",
       "    </tr>\n",
       "    <tr>\n",
       "      <th>8122</th>\n",
       "      <td>1</td>\n",
       "      <td>3</td>\n",
       "      <td>3</td>\n",
       "      <td>4</td>\n",
       "      <td>0</td>\n",
       "      <td>8</td>\n",
       "      <td>1</td>\n",
       "      <td>0</td>\n",
       "      <td>1</td>\n",
       "      <td>0</td>\n",
       "      <td>...</td>\n",
       "      <td>1</td>\n",
       "      <td>7</td>\n",
       "      <td>7</td>\n",
       "      <td>0</td>\n",
       "      <td>2</td>\n",
       "      <td>1</td>\n",
       "      <td>0</td>\n",
       "      <td>7</td>\n",
       "      <td>4</td>\n",
       "      <td>2</td>\n",
       "    </tr>\n",
       "    <tr>\n",
       "      <th>8123</th>\n",
       "      <td>0</td>\n",
       "      <td>5</td>\n",
       "      <td>2</td>\n",
       "      <td>4</td>\n",
       "      <td>0</td>\n",
       "      <td>5</td>\n",
       "      <td>0</td>\n",
       "      <td>0</td>\n",
       "      <td>0</td>\n",
       "      <td>11</td>\n",
       "      <td>...</td>\n",
       "      <td>2</td>\n",
       "      <td>5</td>\n",
       "      <td>5</td>\n",
       "      <td>0</td>\n",
       "      <td>1</td>\n",
       "      <td>1</td>\n",
       "      <td>4</td>\n",
       "      <td>4</td>\n",
       "      <td>1</td>\n",
       "      <td>2</td>\n",
       "    </tr>\n",
       "  </tbody>\n",
       "</table>\n",
       "<p>8124 rows × 23 columns</p>\n",
       "</div>"
      ],
      "text/plain": [
       "      class  cap-shape  cap-surface  cap-color  bruises  odor  \\\n",
       "0         1          5            2          4        1     6   \n",
       "1         0          5            2          9        1     0   \n",
       "2         0          0            2          8        1     3   \n",
       "3         1          5            3          8        1     6   \n",
       "4         0          5            2          3        0     5   \n",
       "...     ...        ...          ...        ...      ...   ...   \n",
       "8119      0          3            2          4        0     5   \n",
       "8120      0          5            2          4        0     5   \n",
       "8121      0          2            2          4        0     5   \n",
       "8122      1          3            3          4        0     8   \n",
       "8123      0          5            2          4        0     5   \n",
       "\n",
       "      gill-attachment  gill-spacing  gill-size  gill-color  ...  \\\n",
       "0                   1             0          1           4  ...   \n",
       "1                   1             0          0           4  ...   \n",
       "2                   1             0          0           5  ...   \n",
       "3                   1             0          1           5  ...   \n",
       "4                   1             1          0           4  ...   \n",
       "...               ...           ...        ...         ...  ...   \n",
       "8119                0             0          0          11  ...   \n",
       "8120                0             0          0          11  ...   \n",
       "8121                0             0          0           5  ...   \n",
       "8122                1             0          1           0  ...   \n",
       "8123                0             0          0          11  ...   \n",
       "\n",
       "      stalk-surface-below-ring  stalk-color-above-ring  \\\n",
       "0                            2                       7   \n",
       "1                            2                       7   \n",
       "2                            2                       7   \n",
       "3                            2                       7   \n",
       "4                            2                       7   \n",
       "...                        ...                     ...   \n",
       "8119                         2                       5   \n",
       "8120                         2                       5   \n",
       "8121                         2                       5   \n",
       "8122                         1                       7   \n",
       "8123                         2                       5   \n",
       "\n",
       "      stalk-color-below-ring  veil-type  veil-color  ring-number  ring-type  \\\n",
       "0                          7          0           2            1          4   \n",
       "1                          7          0           2            1          4   \n",
       "2                          7          0           2            1          4   \n",
       "3                          7          0           2            1          4   \n",
       "4                          7          0           2            1          0   \n",
       "...                      ...        ...         ...          ...        ...   \n",
       "8119                       5          0           1            1          4   \n",
       "8120                       5          0           0            1          4   \n",
       "8121                       5          0           1            1          4   \n",
       "8122                       7          0           2            1          0   \n",
       "8123                       5          0           1            1          4   \n",
       "\n",
       "      spore-print-color  population  habitat  \n",
       "0                     2           3        5  \n",
       "1                     3           2        1  \n",
       "2                     3           2        3  \n",
       "3                     2           3        5  \n",
       "4                     3           0        1  \n",
       "...                 ...         ...      ...  \n",
       "8119                  0           1        2  \n",
       "8120                  0           4        2  \n",
       "8121                  0           1        2  \n",
       "8122                  7           4        2  \n",
       "8123                  4           1        2  \n",
       "\n",
       "[8124 rows x 23 columns]"
      ]
     },
     "execution_count": 30,
     "metadata": {},
     "output_type": "execute_result"
    }
   ],
   "source": [
    "from sklearn.preprocessing import LabelEncoder\n",
    "\n",
    "label_encoder_data = data.copy()\n",
    "label_encoder = LabelEncoder()\n",
    "for col in data.columns:\n",
    "    label_encoder_data[col] = label_encoder.fit_transform(label_encoder_data[col])\n",
    "    \n",
    "label_encoder_data"
   ]
  },
  {
   "cell_type": "code",
   "execution_count": 31,
   "id": "challenging-disposal",
   "metadata": {},
   "outputs": [],
   "source": [
    "X_label_encoder = label_encoder_data.drop(\"class\",axis=1)\n",
    "y_label_encoder = label_encoder_data[\"class\"]"
   ]
  },
  {
   "cell_type": "code",
   "execution_count": 32,
   "id": "integrated-syria",
   "metadata": {},
   "outputs": [],
   "source": [
    "from sklearn.model_selection import train_test_split\n",
    "\n",
    "X_train,X_test,y_train,y_test = train_test_split(X_label_encoder,y_label_encoder,test_size=0.2,random_state=0)"
   ]
  },
  {
   "cell_type": "code",
   "execution_count": 33,
   "id": "collectible-therapist",
   "metadata": {},
   "outputs": [
    {
     "data": {
      "text/plain": [
       "1.0"
      ]
     },
     "execution_count": 33,
     "metadata": {},
     "output_type": "execute_result"
    }
   ],
   "source": [
    "from sklearn.ensemble import RandomForestClassifier\n",
    "\n",
    "rf1 = RandomForestClassifier()\n",
    "rf1.fit(X_train,y_train)\n",
    "y_preds = rf1.predict(X_test)\n",
    "rf1.score(X_test,y_test)"
   ]
  },
  {
   "cell_type": "code",
   "execution_count": 34,
   "id": "cutting-christmas",
   "metadata": {},
   "outputs": [
    {
     "data": {
      "text/plain": [
       "array([[852,   0],\n",
       "       [  0, 773]])"
      ]
     },
     "execution_count": 34,
     "metadata": {},
     "output_type": "execute_result"
    }
   ],
   "source": [
    "from sklearn.metrics import confusion_matrix\n",
    "\n",
    "confusion_matrix(y_test,y_preds)"
   ]
  },
  {
   "cell_type": "code",
   "execution_count": 35,
   "id": "neutral-bangladesh",
   "metadata": {},
   "outputs": [
    {
     "data": {
      "image/png": "[encoded data removed]",
      "text/plain": [
       "<Figure size 432x288 with 1 Axes>"
      ]
     },
     "metadata": {
      "needs_background": "light"
     },
     "output_type": "display_data"
    }
   ],
   "source": [
    "from sklearn.metrics import roc_curve\n",
    "from sklearn.metrics import roc_auc_score\n",
    "\n",
    "auc_rf1 = roc_auc_score(y_test,y_preds)\n",
    "fpr, tpr, tresholds = roc_curve(y_test,y_preds)\n",
    "plt.plot([0,1],[0,1],linestyle='--')\n",
    "plt.plot(fpr,tpr,marker='.')\n",
    "plt.title(f\"ROC Curve for Random Forest with AUC Score: {auc_rf1:.3f}\")\n",
    "plt.show()"
   ]
  },
  {
   "cell_type": "code",
   "execution_count": 36,
   "id": "clinical-potter",
   "metadata": {},
   "outputs": [
    {
     "data": {
      "image/png": "[encoded data removed]",
      "text/plain": [
       "<Figure size 432x288 with 1 Axes>"
      ]
     },
     "metadata": {
      "needs_background": "light"
     },
     "output_type": "display_data"
    }
   ],
   "source": [
    "sorted_idx = rf1.feature_importances_.argsort()\n",
    "plt.barh(X_label_encoder.columns[sorted_idx], rf1.feature_importances_[sorted_idx])\n",
    "plt.xlabel(\"Random Forest Feature Importance\")\n",
    "plt.show()"
   ]
  },
  {
   "cell_type": "code",
   "execution_count": 37,
   "id": "colonial-parish",
   "metadata": {},
   "outputs": [
    {
     "data": {
      "text/plain": [
       "1.0"
      ]
     },
     "execution_count": 37,
     "metadata": {},
     "output_type": "execute_result"
    }
   ],
   "source": [
    "from sklearn.tree import DecisionTreeClassifier\n",
    "\n",
    "dt1 = DecisionTreeClassifier()\n",
    "dt1.fit(X_train,y_train)\n",
    "y_preds = dt1.predict(X_test)\n",
    "dt1.score(X_test,y_test)"
   ]
  },
  {
   "cell_type": "code",
   "execution_count": 38,
   "id": "freelance-segment",
   "metadata": {},
   "outputs": [
    {
     "data": {
      "text/plain": [
       "array([[852,   0],\n",
       "       [  0, 773]])"
      ]
     },
     "execution_count": 38,
     "metadata": {},
     "output_type": "execute_result"
    }
   ],
   "source": [
    "from sklearn.metrics import confusion_matrix\n",
    "\n",
    "confusion_matrix(y_test,y_preds)"
   ]
  },
  {
   "cell_type": "code",
   "execution_count": 39,
   "id": "aggressive-bidder",
   "metadata": {},
   "outputs": [
    {
     "data": {
      "image/png": "[encoded data removed]",
      "text/plain": [
       "<Figure size 432x288 with 1 Axes>"
      ]
     },
     "metadata": {
      "needs_background": "light"
     },
     "output_type": "display_data"
    }
   ],
   "source": [
    "from sklearn.metrics import roc_curve\n",
    "from sklearn.metrics import roc_auc_score\n",
    "\n",
    "auc_dt1 = roc_auc_score(y_test,y_preds)\n",
    "fpr, tpr, tresholds = roc_curve(y_test,y_preds)\n",
    "plt.plot([0,1],[0,1],linestyle='--')\n",
    "plt.plot(fpr,tpr,marker='.')\n",
    "plt.title(f\"ROC Curve for Desicion Tree with AUC Score: {auc_dt1:.3f}\")\n",
    "plt.show()"
   ]
  },
  {
   "cell_type": "code",
   "execution_count": 40,
   "id": "spread-spencer",
   "metadata": {},
   "outputs": [
    {
     "data": {
      "image/png": "[encoded data removed]",
      "text/plain": [
       "<Figure size 432x288 with 1 Axes>"
      ]
     },
     "metadata": {
      "needs_background": "light"
     },
     "output_type": "display_data"
    }
   ],
   "source": [
    "sorted_idx = dt1.feature_importances_.argsort()\n",
    "plt.barh(X_label_encoder.columns[sorted_idx], dt1.feature_importances_[sorted_idx])\n",
    "plt.xlabel(\"Decision Tree Feature Importance\")\n",
    "plt.show()"
   ]
  },
  {
   "cell_type": "code",
   "execution_count": 41,
   "id": "available-trustee",
   "metadata": {},
   "outputs": [],
   "source": [
    "# 2. Preprocessing with OneHotEncoder"
   ]
  },
  {
   "cell_type": "code",
   "execution_count": 42,
   "id": "naked-apartment",
   "metadata": {},
   "outputs": [
    {
     "data": {
      "text/html": [
       "<div>\n",
       "<style scoped>\n",
       "    .dataframe tbody tr th:only-of-type {\n",
       "        vertical-align: middle;\n",
       "    }\n",
       "\n",
       "    .dataframe tbody tr th {\n",
       "        vertical-align: top;\n",
       "    }\n",
       "\n",
       "    .dataframe thead th {\n",
       "        text-align: right;\n",
       "    }\n",
       "</style>\n",
       "<table border=\"1\" class=\"dataframe\">\n",
       "  <thead>\n",
       "    <tr style=\"text-align: right;\">\n",
       "      <th></th>\n",
       "      <th>cap-shape_b</th>\n",
       "      <th>cap-shape_c</th>\n",
       "      <th>cap-shape_f</th>\n",
       "      <th>cap-shape_k</th>\n",
       "      <th>cap-shape_s</th>\n",
       "      <th>cap-shape_x</th>\n",
       "      <th>cap-surface_f</th>\n",
       "      <th>cap-surface_g</th>\n",
       "      <th>cap-surface_s</th>\n",
       "      <th>cap-surface_y</th>\n",
       "      <th>...</th>\n",
       "      <th>population_s</th>\n",
       "      <th>population_v</th>\n",
       "      <th>population_y</th>\n",
       "      <th>habitat_d</th>\n",
       "      <th>habitat_g</th>\n",
       "      <th>habitat_l</th>\n",
       "      <th>habitat_m</th>\n",
       "      <th>habitat_p</th>\n",
       "      <th>habitat_u</th>\n",
       "      <th>habitat_w</th>\n",
       "    </tr>\n",
       "  </thead>\n",
       "  <tbody>\n",
       "    <tr>\n",
       "      <th>0</th>\n",
       "      <td>0</td>\n",
       "      <td>0</td>\n",
       "      <td>0</td>\n",
       "      <td>0</td>\n",
       "      <td>0</td>\n",
       "      <td>1</td>\n",
       "      <td>0</td>\n",
       "      <td>0</td>\n",
       "      <td>1</td>\n",
       "      <td>0</td>\n",
       "      <td>...</td>\n",
       "      <td>1</td>\n",
       "      <td>0</td>\n",
       "      <td>0</td>\n",
       "      <td>0</td>\n",
       "      <td>0</td>\n",
       "      <td>0</td>\n",
       "      <td>0</td>\n",
       "      <td>0</td>\n",
       "      <td>1</td>\n",
       "      <td>0</td>\n",
       "    </tr>\n",
       "    <tr>\n",
       "      <th>1</th>\n",
       "      <td>0</td>\n",
       "      <td>0</td>\n",
       "      <td>0</td>\n",
       "      <td>0</td>\n",
       "      <td>0</td>\n",
       "      <td>1</td>\n",
       "      <td>0</td>\n",
       "      <td>0</td>\n",
       "      <td>1</td>\n",
       "      <td>0</td>\n",
       "      <td>...</td>\n",
       "      <td>0</td>\n",
       "      <td>0</td>\n",
       "      <td>0</td>\n",
       "      <td>0</td>\n",
       "      <td>1</td>\n",
       "      <td>0</td>\n",
       "      <td>0</td>\n",
       "      <td>0</td>\n",
       "      <td>0</td>\n",
       "      <td>0</td>\n",
       "    </tr>\n",
       "    <tr>\n",
       "      <th>2</th>\n",
       "      <td>1</td>\n",
       "      <td>0</td>\n",
       "      <td>0</td>\n",
       "      <td>0</td>\n",
       "      <td>0</td>\n",
       "      <td>0</td>\n",
       "      <td>0</td>\n",
       "      <td>0</td>\n",
       "      <td>1</td>\n",
       "      <td>0</td>\n",
       "      <td>...</td>\n",
       "      <td>0</td>\n",
       "      <td>0</td>\n",
       "      <td>0</td>\n",
       "      <td>0</td>\n",
       "      <td>0</td>\n",
       "      <td>0</td>\n",
       "      <td>1</td>\n",
       "      <td>0</td>\n",
       "      <td>0</td>\n",
       "      <td>0</td>\n",
       "    </tr>\n",
       "    <tr>\n",
       "      <th>3</th>\n",
       "      <td>0</td>\n",
       "      <td>0</td>\n",
       "      <td>0</td>\n",
       "      <td>0</td>\n",
       "      <td>0</td>\n",
       "      <td>1</td>\n",
       "      <td>0</td>\n",
       "      <td>0</td>\n",
       "      <td>0</td>\n",
       "      <td>1</td>\n",
       "      <td>...</td>\n",
       "      <td>1</td>\n",
       "      <td>0</td>\n",
       "      <td>0</td>\n",
       "      <td>0</td>\n",
       "      <td>0</td>\n",
       "      <td>0</td>\n",
       "      <td>0</td>\n",
       "      <td>0</td>\n",
       "      <td>1</td>\n",
       "      <td>0</td>\n",
       "    </tr>\n",
       "    <tr>\n",
       "      <th>4</th>\n",
       "      <td>0</td>\n",
       "      <td>0</td>\n",
       "      <td>0</td>\n",
       "      <td>0</td>\n",
       "      <td>0</td>\n",
       "      <td>1</td>\n",
       "      <td>0</td>\n",
       "      <td>0</td>\n",
       "      <td>1</td>\n",
       "      <td>0</td>\n",
       "      <td>...</td>\n",
       "      <td>0</td>\n",
       "      <td>0</td>\n",
       "      <td>0</td>\n",
       "      <td>0</td>\n",
       "      <td>1</td>\n",
       "      <td>0</td>\n",
       "      <td>0</td>\n",
       "      <td>0</td>\n",
       "      <td>0</td>\n",
       "      <td>0</td>\n",
       "    </tr>\n",
       "    <tr>\n",
       "      <th>...</th>\n",
       "      <td>...</td>\n",
       "      <td>...</td>\n",
       "      <td>...</td>\n",
       "      <td>...</td>\n",
       "      <td>...</td>\n",
       "      <td>...</td>\n",
       "      <td>...</td>\n",
       "      <td>...</td>\n",
       "      <td>...</td>\n",
       "      <td>...</td>\n",
       "      <td>...</td>\n",
       "      <td>...</td>\n",
       "      <td>...</td>\n",
       "      <td>...</td>\n",
       "      <td>...</td>\n",
       "      <td>...</td>\n",
       "      <td>...</td>\n",
       "      <td>...</td>\n",
       "      <td>...</td>\n",
       "      <td>...</td>\n",
       "      <td>...</td>\n",
       "    </tr>\n",
       "    <tr>\n",
       "      <th>8119</th>\n",
       "      <td>0</td>\n",
       "      <td>0</td>\n",
       "      <td>0</td>\n",
       "      <td>1</td>\n",
       "      <td>0</td>\n",
       "      <td>0</td>\n",
       "      <td>0</td>\n",
       "      <td>0</td>\n",
       "      <td>1</td>\n",
       "      <td>0</td>\n",
       "      <td>...</td>\n",
       "      <td>0</td>\n",
       "      <td>0</td>\n",
       "      <td>0</td>\n",
       "      <td>0</td>\n",
       "      <td>0</td>\n",
       "      <td>1</td>\n",
       "      <td>0</td>\n",
       "      <td>0</td>\n",
       "      <td>0</td>\n",
       "      <td>0</td>\n",
       "    </tr>\n",
       "    <tr>\n",
       "      <th>8120</th>\n",
       "      <td>0</td>\n",
       "      <td>0</td>\n",
       "      <td>0</td>\n",
       "      <td>0</td>\n",
       "      <td>0</td>\n",
       "      <td>1</td>\n",
       "      <td>0</td>\n",
       "      <td>0</td>\n",
       "      <td>1</td>\n",
       "      <td>0</td>\n",
       "      <td>...</td>\n",
       "      <td>0</td>\n",
       "      <td>1</td>\n",
       "      <td>0</td>\n",
       "      <td>0</td>\n",
       "      <td>0</td>\n",
       "      <td>1</td>\n",
       "      <td>0</td>\n",
       "      <td>0</td>\n",
       "      <td>0</td>\n",
       "      <td>0</td>\n",
       "    </tr>\n",
       "    <tr>\n",
       "      <th>8121</th>\n",
       "      <td>0</td>\n",
       "      <td>0</td>\n",
       "      <td>1</td>\n",
       "      <td>0</td>\n",
       "      <td>0</td>\n",
       "      <td>0</td>\n",
       "      <td>0</td>\n",
       "      <td>0</td>\n",
       "      <td>1</td>\n",
       "      <td>0</td>\n",
       "      <td>...</td>\n",
       "      <td>0</td>\n",
       "      <td>0</td>\n",
       "      <td>0</td>\n",
       "      <td>0</td>\n",
       "      <td>0</td>\n",
       "      <td>1</td>\n",
       "      <td>0</td>\n",
       "      <td>0</td>\n",
       "      <td>0</td>\n",
       "      <td>0</td>\n",
       "    </tr>\n",
       "    <tr>\n",
       "      <th>8122</th>\n",
       "      <td>0</td>\n",
       "      <td>0</td>\n",
       "      <td>0</td>\n",
       "      <td>1</td>\n",
       "      <td>0</td>\n",
       "      <td>0</td>\n",
       "      <td>0</td>\n",
       "      <td>0</td>\n",
       "      <td>0</td>\n",
       "      <td>1</td>\n",
       "      <td>...</td>\n",
       "      <td>0</td>\n",
       "      <td>1</td>\n",
       "      <td>0</td>\n",
       "      <td>0</td>\n",
       "      <td>0</td>\n",
       "      <td>1</td>\n",
       "      <td>0</td>\n",
       "      <td>0</td>\n",
       "      <td>0</td>\n",
       "      <td>0</td>\n",
       "    </tr>\n",
       "    <tr>\n",
       "      <th>8123</th>\n",
       "      <td>0</td>\n",
       "      <td>0</td>\n",
       "      <td>0</td>\n",
       "      <td>0</td>\n",
       "      <td>0</td>\n",
       "      <td>1</td>\n",
       "      <td>0</td>\n",
       "      <td>0</td>\n",
       "      <td>1</td>\n",
       "      <td>0</td>\n",
       "      <td>...</td>\n",
       "      <td>0</td>\n",
       "      <td>0</td>\n",
       "      <td>0</td>\n",
       "      <td>0</td>\n",
       "      <td>0</td>\n",
       "      <td>1</td>\n",
       "      <td>0</td>\n",
       "      <td>0</td>\n",
       "      <td>0</td>\n",
       "      <td>0</td>\n",
       "    </tr>\n",
       "  </tbody>\n",
       "</table>\n",
       "<p>8124 rows × 117 columns</p>\n",
       "</div>"
      ],
      "text/plain": [
       "      cap-shape_b  cap-shape_c  cap-shape_f  cap-shape_k  cap-shape_s  \\\n",
       "0               0            0            0            0            0   \n",
       "1               0            0            0            0            0   \n",
       "2               1            0            0            0            0   \n",
       "3               0            0            0            0            0   \n",
       "4               0            0            0            0            0   \n",
       "...           ...          ...          ...          ...          ...   \n",
       "8119            0            0            0            1            0   \n",
       "8120            0            0            0            0            0   \n",
       "8121            0            0            1            0            0   \n",
       "8122            0            0            0            1            0   \n",
       "8123            0            0            0            0            0   \n",
       "\n",
       "      cap-shape_x  cap-surface_f  cap-surface_g  cap-surface_s  cap-surface_y  \\\n",
       "0               1              0              0              1              0   \n",
       "1               1              0              0              1              0   \n",
       "2               0              0              0              1              0   \n",
       "3               1              0              0              0              1   \n",
       "4               1              0              0              1              0   \n",
       "...           ...            ...            ...            ...            ...   \n",
       "8119            0              0              0              1              0   \n",
       "8120            1              0              0              1              0   \n",
       "8121            0              0              0              1              0   \n",
       "8122            0              0              0              0              1   \n",
       "8123            1              0              0              1              0   \n",
       "\n",
       "      ...  population_s  population_v  population_y  habitat_d  habitat_g  \\\n",
       "0     ...             1             0             0          0          0   \n",
       "1     ...             0             0             0          0          1   \n",
       "2     ...             0             0             0          0          0   \n",
       "3     ...             1             0             0          0          0   \n",
       "4     ...             0             0             0          0          1   \n",
       "...   ...           ...           ...           ...        ...        ...   \n",
       "8119  ...             0             0             0          0          0   \n",
       "8120  ...             0             1             0          0          0   \n",
       "8121  ...             0             0             0          0          0   \n",
       "8122  ...             0             1             0          0          0   \n",
       "8123  ...             0             0             0          0          0   \n",
       "\n",
       "      habitat_l  habitat_m  habitat_p  habitat_u  habitat_w  \n",
       "0             0          0          0          1          0  \n",
       "1             0          0          0          0          0  \n",
       "2             0          1          0          0          0  \n",
       "3             0          0          0          1          0  \n",
       "4             0          0          0          0          0  \n",
       "...         ...        ...        ...        ...        ...  \n",
       "8119          1          0          0          0          0  \n",
       "8120          1          0          0          0          0  \n",
       "8121          1          0          0          0          0  \n",
       "8122          1          0          0          0          0  \n",
       "8123          1          0          0          0          0  \n",
       "\n",
       "[8124 rows x 117 columns]"
      ]
     },
     "execution_count": 42,
     "metadata": {},
     "output_type": "execute_result"
    }
   ],
   "source": [
    "onehot_encoder_data = data.copy()\n",
    "new_df = pd.DataFrame()\n",
    "for col in X.columns:\n",
    "    dummies = pd.get_dummies(X[col],prefix=col)\n",
    "    new_df = pd.concat([new_df,dummies],axis=1)\n",
    "\n",
    "new_df"
   ]
  },
  {
   "cell_type": "code",
   "execution_count": 43,
   "id": "mobile-designation",
   "metadata": {},
   "outputs": [],
   "source": [
    "from sklearn.decomposition import PCA\n",
    "\n",
    "pca = PCA(n_components=5)\n",
    "X_5 = pca.fit_transform(new_df)\n",
    "X_pca = pd.DataFrame(data=X_5,columns=[\"PC1\",\"PC2\",\"PC3\",\"PC4\",\"PC5\"])\n",
    "y_pca = y.map({\"e\":0,\"p\":1})"
   ]
  },
  {
   "cell_type": "code",
   "execution_count": 44,
   "id": "logical-understanding",
   "metadata": {},
   "outputs": [],
   "source": [
    "from sklearn.model_selection import train_test_split\n",
    "\n",
    "X_train,X_test,y_train,y_test = train_test_split(X_pca,y_pca,test_size=0.2,random_state=0)"
   ]
  },
  {
   "cell_type": "code",
   "execution_count": 45,
   "id": "higher-harris",
   "metadata": {},
   "outputs": [
    {
     "data": {
      "text/plain": [
       "0.9975384615384615"
      ]
     },
     "execution_count": 45,
     "metadata": {},
     "output_type": "execute_result"
    }
   ],
   "source": [
    "from sklearn.ensemble import RandomForestClassifier\n",
    "\n",
    "rf2 = RandomForestClassifier(n_jobs=-1, random_state=40)\n",
    "rf2.fit(X_train,y_train)\n",
    "y_preds = rf2.predict(X_test)\n",
    "rf2.score(X_test,y_test)"
   ]
  },
  {
   "cell_type": "code",
   "execution_count": 46,
   "id": "armed-virus",
   "metadata": {},
   "outputs": [
    {
     "data": {
      "text/plain": [
       "array([[849,   3],\n",
       "       [  1, 772]])"
      ]
     },
     "execution_count": 46,
     "metadata": {},
     "output_type": "execute_result"
    }
   ],
   "source": [
    "from sklearn.metrics import confusion_matrix\n",
    "\n",
    "confusion_matrix(y_test,y_preds)"
   ]
  },
  {
   "cell_type": "code",
   "execution_count": 47,
   "id": "color-allergy",
   "metadata": {},
   "outputs": [
    {
     "data": {
      "image/png": "[encoded data removed]",
      "text/plain": [
       "<Figure size 432x288 with 1 Axes>"
      ]
     },
     "metadata": {
      "needs_background": "light"
     },
     "output_type": "display_data"
    }
   ],
   "source": [
    "from sklearn.metrics import roc_curve\n",
    "from sklearn.metrics import roc_auc_score\n",
    "\n",
    "auc_rf2 = roc_auc_score(y_test,y_preds)\n",
    "fpr, tpr, tresholds = roc_curve(y_test,y_preds)\n",
    "plt.plot([0,1],[0,1],linestyle='--')\n",
    "plt.plot(fpr,tpr,marker='.')\n",
    "plt.title(f\"ROC Curve for Random Forest with AUC Score: {auc_rf2:.3f}\")\n",
    "plt.show()"
   ]
  },
  {
   "cell_type": "code",
   "execution_count": 48,
   "id": "forced-vinyl",
   "metadata": {},
   "outputs": [
    {
     "data": {
      "image/png": "[encoded data removed]",
      "text/plain": [
       "<Figure size 432x288 with 1 Axes>"
      ]
     },
     "metadata": {
      "needs_background": "light"
     },
     "output_type": "display_data"
    }
   ],
   "source": [
    "sorted_idx = rf2.feature_importances_.argsort()\n",
    "plt.barh(X_pca.columns[sorted_idx], rf2.feature_importances_[sorted_idx])\n",
    "plt.xlabel(\"Random Forest Feature Importance\")\n",
    "plt.show()"
   ]
  },
  {
   "cell_type": "code",
   "execution_count": 49,
   "id": "limited-johns",
   "metadata": {},
   "outputs": [
    {
     "data": {
      "text/plain": [
       "0.9981538461538462"
      ]
     },
     "execution_count": 49,
     "metadata": {},
     "output_type": "execute_result"
    }
   ],
   "source": [
    "from sklearn.tree import DecisionTreeClassifier\n",
    "\n",
    "dt2 = DecisionTreeClassifier()\n",
    "dt2.fit(X_train,y_train)\n",
    "y_preds = dt2.predict(X_test)\n",
    "dt2.score(X_test,y_test)"
   ]
  },
  {
   "cell_type": "code",
   "execution_count": 50,
   "id": "raised-roulette",
   "metadata": {},
   "outputs": [
    {
     "data": {
      "text/plain": [
       "array([[849,   3],\n",
       "       [  0, 773]])"
      ]
     },
     "execution_count": 50,
     "metadata": {},
     "output_type": "execute_result"
    }
   ],
   "source": [
    "from sklearn.metrics import confusion_matrix\n",
    "\n",
    "confusion_matrix(y_test,y_preds)"
   ]
  },
  {
   "cell_type": "code",
   "execution_count": 51,
   "id": "proud-original",
   "metadata": {},
   "outputs": [
    {
     "data": {
      "image/png": "[encoded data removed]",
      "text/plain": [
       "<Figure size 432x288 with 1 Axes>"
      ]
     },
     "metadata": {
      "needs_background": "light"
     },
     "output_type": "display_data"
    }
   ],
   "source": [
    "from sklearn.metrics import roc_curve\n",
    "from sklearn.metrics import roc_auc_score\n",
    "\n",
    "auc_dt2 = roc_auc_score(y_test,y_preds)\n",
    "fpr, tpr, tresholds = roc_curve(y_test,y_preds)\n",
    "plt.plot([0,1],[0,1],linestyle='--')\n",
    "plt.plot(fpr,tpr,marker='.')\n",
    "plt.title(f\"ROC Curve for Desicion Tree with AUC Score: {auc_dt2:.3f}\")\n",
    "plt.show()"
   ]
  },
  {
   "cell_type": "code",
   "execution_count": 52,
   "id": "backed-approval",
   "metadata": {},
   "outputs": [
    {
     "data": {
      "image/png": "[encoded data removed]",
      "text/plain": [
       "<Figure size 432x288 with 1 Axes>"
      ]
     },
     "metadata": {
      "needs_background": "light"
     },
     "output_type": "display_data"
    }
   ],
   "source": [
    "sorted_idx = dt2.feature_importances_.argsort()\n",
    "plt.barh(X_pca.columns[sorted_idx], dt2.feature_importances_[sorted_idx])\n",
    "plt.xlabel(\"Decision Tree Feature Importance\")\n",
    "plt.show()"
   ]
  },
  {
   "cell_type": "code",
   "execution_count": null,
   "id": "received-setting",
   "metadata": {},
   "outputs": [],
   "source": []
  }
 ],
 "metadata": {
  "kernelspec": {
   "display_name": "Python 3",
   "language": "python",
   "name": "python3"
  },
  "language_info": {
   "codemirror_mode": {
    "name": "ipython",
    "version": 3
   },
   "file_extension": ".py",
   "mimetype": "text/x-python",
   "name": "python",
   "nbconvert_exporter": "python",
   "pygments_lexer": "ipython3",
   "version": "3.8.5"
  }
 },
 "nbformat": 4,
 "nbformat_minor": 5
}
