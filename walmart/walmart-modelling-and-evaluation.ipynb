{
 "cells": [
  {
   "cell_type": "code",
   "execution_count": 1,
   "id": "million-smile",
   "metadata": {},
   "outputs": [],
   "source": [
    "import pandas as pd\n",
    "import matplotlib.pyplot as plt\n",
    "import numpy as np\n",
    "import seaborn as sns\n",
    "import warnings\n",
    "\n",
    "warnings.filterwarnings('ignore')"
   ]
  },
  {
   "cell_type": "markdown",
   "id": "sharp-criterion",
   "metadata": {},
   "source": [
    "#### 1. Import data"
   ]
  },
  {
   "cell_type": "code",
   "execution_count": 2,
   "id": "homeless-collar",
   "metadata": {},
   "outputs": [
    {
     "data": {
      "text/html": [
       "<div>\n",
       "<style scoped>\n",
       "    .dataframe tbody tr th:only-of-type {\n",
       "        vertical-align: middle;\n",
       "    }\n",
       "\n",
       "    .dataframe tbody tr th {\n",
       "        vertical-align: top;\n",
       "    }\n",
       "\n",
       "    .dataframe thead th {\n",
       "        text-align: right;\n",
       "    }\n",
       "</style>\n",
       "<table border=\"1\" class=\"dataframe\">\n",
       "  <thead>\n",
       "    <tr style=\"text-align: right;\">\n",
       "      <th></th>\n",
       "      <th>Store</th>\n",
       "      <th>Dept</th>\n",
       "      <th>Weekly_Sales</th>\n",
       "      <th>IsHoliday</th>\n",
       "      <th>DateTime</th>\n",
       "      <th>Week</th>\n",
       "      <th>Month</th>\n",
       "      <th>SpecialDay</th>\n",
       "      <th>Type_A</th>\n",
       "      <th>Type_B</th>\n",
       "      <th>Type_C</th>\n",
       "      <th>CPI</th>\n",
       "      <th>Unemployment</th>\n",
       "      <th>Size</th>\n",
       "      <th>Year</th>\n",
       "    </tr>\n",
       "  </thead>\n",
       "  <tbody>\n",
       "    <tr>\n",
       "      <th>0</th>\n",
       "      <td>1</td>\n",
       "      <td>1</td>\n",
       "      <td>24924.50</td>\n",
       "      <td>0</td>\n",
       "      <td>2010-02-05</td>\n",
       "      <td>5</td>\n",
       "      <td>2</td>\n",
       "      <td>-1</td>\n",
       "      <td>1</td>\n",
       "      <td>0</td>\n",
       "      <td>0</td>\n",
       "      <td>1.018774</td>\n",
       "      <td>0.078201</td>\n",
       "      <td>0.239209</td>\n",
       "      <td>-1.215487</td>\n",
       "    </tr>\n",
       "    <tr>\n",
       "      <th>1</th>\n",
       "      <td>1</td>\n",
       "      <td>2</td>\n",
       "      <td>50605.27</td>\n",
       "      <td>0</td>\n",
       "      <td>2010-02-05</td>\n",
       "      <td>5</td>\n",
       "      <td>2</td>\n",
       "      <td>-1</td>\n",
       "      <td>1</td>\n",
       "      <td>0</td>\n",
       "      <td>0</td>\n",
       "      <td>1.018774</td>\n",
       "      <td>0.078201</td>\n",
       "      <td>0.239209</td>\n",
       "      <td>-1.215487</td>\n",
       "    </tr>\n",
       "    <tr>\n",
       "      <th>2</th>\n",
       "      <td>1</td>\n",
       "      <td>3</td>\n",
       "      <td>13740.12</td>\n",
       "      <td>0</td>\n",
       "      <td>2010-02-05</td>\n",
       "      <td>5</td>\n",
       "      <td>2</td>\n",
       "      <td>-1</td>\n",
       "      <td>1</td>\n",
       "      <td>0</td>\n",
       "      <td>0</td>\n",
       "      <td>1.018774</td>\n",
       "      <td>0.078201</td>\n",
       "      <td>0.239209</td>\n",
       "      <td>-1.215487</td>\n",
       "    </tr>\n",
       "    <tr>\n",
       "      <th>3</th>\n",
       "      <td>1</td>\n",
       "      <td>4</td>\n",
       "      <td>39954.04</td>\n",
       "      <td>0</td>\n",
       "      <td>2010-02-05</td>\n",
       "      <td>5</td>\n",
       "      <td>2</td>\n",
       "      <td>-1</td>\n",
       "      <td>1</td>\n",
       "      <td>0</td>\n",
       "      <td>0</td>\n",
       "      <td>1.018774</td>\n",
       "      <td>0.078201</td>\n",
       "      <td>0.239209</td>\n",
       "      <td>-1.215487</td>\n",
       "    </tr>\n",
       "    <tr>\n",
       "      <th>4</th>\n",
       "      <td>1</td>\n",
       "      <td>5</td>\n",
       "      <td>32229.38</td>\n",
       "      <td>0</td>\n",
       "      <td>2010-02-05</td>\n",
       "      <td>5</td>\n",
       "      <td>2</td>\n",
       "      <td>-1</td>\n",
       "      <td>1</td>\n",
       "      <td>0</td>\n",
       "      <td>0</td>\n",
       "      <td>1.018774</td>\n",
       "      <td>0.078201</td>\n",
       "      <td>0.239209</td>\n",
       "      <td>-1.215487</td>\n",
       "    </tr>\n",
       "    <tr>\n",
       "      <th>...</th>\n",
       "      <td>...</td>\n",
       "      <td>...</td>\n",
       "      <td>...</td>\n",
       "      <td>...</td>\n",
       "      <td>...</td>\n",
       "      <td>...</td>\n",
       "      <td>...</td>\n",
       "      <td>...</td>\n",
       "      <td>...</td>\n",
       "      <td>...</td>\n",
       "      <td>...</td>\n",
       "      <td>...</td>\n",
       "      <td>...</td>\n",
       "      <td>...</td>\n",
       "      <td>...</td>\n",
       "    </tr>\n",
       "    <tr>\n",
       "      <th>421565</th>\n",
       "      <td>45</td>\n",
       "      <td>93</td>\n",
       "      <td>2487.80</td>\n",
       "      <td>0</td>\n",
       "      <td>2012-10-26</td>\n",
       "      <td>43</td>\n",
       "      <td>10</td>\n",
       "      <td>-1</td>\n",
       "      <td>0</td>\n",
       "      <td>1</td>\n",
       "      <td>0</td>\n",
       "      <td>0.539003</td>\n",
       "      <td>0.379281</td>\n",
       "      <td>-0.303489</td>\n",
       "      <td>1.294317</td>\n",
       "    </tr>\n",
       "    <tr>\n",
       "      <th>421566</th>\n",
       "      <td>45</td>\n",
       "      <td>94</td>\n",
       "      <td>5203.31</td>\n",
       "      <td>0</td>\n",
       "      <td>2012-10-26</td>\n",
       "      <td>43</td>\n",
       "      <td>10</td>\n",
       "      <td>-1</td>\n",
       "      <td>0</td>\n",
       "      <td>1</td>\n",
       "      <td>0</td>\n",
       "      <td>0.539003</td>\n",
       "      <td>0.379281</td>\n",
       "      <td>-0.303489</td>\n",
       "      <td>1.294317</td>\n",
       "    </tr>\n",
       "    <tr>\n",
       "      <th>421567</th>\n",
       "      <td>45</td>\n",
       "      <td>95</td>\n",
       "      <td>56017.47</td>\n",
       "      <td>0</td>\n",
       "      <td>2012-10-26</td>\n",
       "      <td>43</td>\n",
       "      <td>10</td>\n",
       "      <td>-1</td>\n",
       "      <td>0</td>\n",
       "      <td>1</td>\n",
       "      <td>0</td>\n",
       "      <td>0.539003</td>\n",
       "      <td>0.379281</td>\n",
       "      <td>-0.303489</td>\n",
       "      <td>1.294317</td>\n",
       "    </tr>\n",
       "    <tr>\n",
       "      <th>421568</th>\n",
       "      <td>45</td>\n",
       "      <td>97</td>\n",
       "      <td>6817.48</td>\n",
       "      <td>0</td>\n",
       "      <td>2012-10-26</td>\n",
       "      <td>43</td>\n",
       "      <td>10</td>\n",
       "      <td>-1</td>\n",
       "      <td>0</td>\n",
       "      <td>1</td>\n",
       "      <td>0</td>\n",
       "      <td>0.539003</td>\n",
       "      <td>0.379281</td>\n",
       "      <td>-0.303489</td>\n",
       "      <td>1.294317</td>\n",
       "    </tr>\n",
       "    <tr>\n",
       "      <th>421569</th>\n",
       "      <td>45</td>\n",
       "      <td>98</td>\n",
       "      <td>1076.80</td>\n",
       "      <td>0</td>\n",
       "      <td>2012-10-26</td>\n",
       "      <td>43</td>\n",
       "      <td>10</td>\n",
       "      <td>-1</td>\n",
       "      <td>0</td>\n",
       "      <td>1</td>\n",
       "      <td>0</td>\n",
       "      <td>0.539003</td>\n",
       "      <td>0.379281</td>\n",
       "      <td>-0.303489</td>\n",
       "      <td>1.294317</td>\n",
       "    </tr>\n",
       "  </tbody>\n",
       "</table>\n",
       "<p>421570 rows × 15 columns</p>\n",
       "</div>"
      ],
      "text/plain": [
       "        Store  Dept  Weekly_Sales  IsHoliday    DateTime  Week  Month  \\\n",
       "0           1     1      24924.50          0  2010-02-05     5      2   \n",
       "1           1     2      50605.27          0  2010-02-05     5      2   \n",
       "2           1     3      13740.12          0  2010-02-05     5      2   \n",
       "3           1     4      39954.04          0  2010-02-05     5      2   \n",
       "4           1     5      32229.38          0  2010-02-05     5      2   \n",
       "...       ...   ...           ...        ...         ...   ...    ...   \n",
       "421565     45    93       2487.80          0  2012-10-26    43     10   \n",
       "421566     45    94       5203.31          0  2012-10-26    43     10   \n",
       "421567     45    95      56017.47          0  2012-10-26    43     10   \n",
       "421568     45    97       6817.48          0  2012-10-26    43     10   \n",
       "421569     45    98       1076.80          0  2012-10-26    43     10   \n",
       "\n",
       "        SpecialDay  Type_A  Type_B  Type_C       CPI  Unemployment      Size  \\\n",
       "0               -1       1       0       0  1.018774      0.078201  0.239209   \n",
       "1               -1       1       0       0  1.018774      0.078201  0.239209   \n",
       "2               -1       1       0       0  1.018774      0.078201  0.239209   \n",
       "3               -1       1       0       0  1.018774      0.078201  0.239209   \n",
       "4               -1       1       0       0  1.018774      0.078201  0.239209   \n",
       "...            ...     ...     ...     ...       ...           ...       ...   \n",
       "421565          -1       0       1       0  0.539003      0.379281 -0.303489   \n",
       "421566          -1       0       1       0  0.539003      0.379281 -0.303489   \n",
       "421567          -1       0       1       0  0.539003      0.379281 -0.303489   \n",
       "421568          -1       0       1       0  0.539003      0.379281 -0.303489   \n",
       "421569          -1       0       1       0  0.539003      0.379281 -0.303489   \n",
       "\n",
       "            Year  \n",
       "0      -1.215487  \n",
       "1      -1.215487  \n",
       "2      -1.215487  \n",
       "3      -1.215487  \n",
       "4      -1.215487  \n",
       "...          ...  \n",
       "421565  1.294317  \n",
       "421566  1.294317  \n",
       "421567  1.294317  \n",
       "421568  1.294317  \n",
       "421569  1.294317  \n",
       "\n",
       "[421570 rows x 15 columns]"
      ]
     },
     "execution_count": 2,
     "metadata": {},
     "output_type": "execute_result"
    }
   ],
   "source": [
    "data = pd.read_csv(\"data/walmart-preprocessing.csv\")\n",
    "data"
   ]
  },
  {
   "cell_type": "markdown",
   "id": "informed-suffering",
   "metadata": {},
   "source": [
    "#### 2. Define X and y"
   ]
  },
  {
   "cell_type": "code",
   "execution_count": 3,
   "id": "perceived-dylan",
   "metadata": {},
   "outputs": [],
   "source": [
    "X = data.drop([\"Weekly_Sales\",\"DateTime\"],axis=1)\n",
    "y = data[\"Weekly_Sales\"]"
   ]
  },
  {
   "cell_type": "markdown",
   "id": "municipal-thompson",
   "metadata": {},
   "source": [
    "#### 3. Features Checking"
   ]
  },
  {
   "cell_type": "code",
   "execution_count": 4,
   "id": "sunset-fight",
   "metadata": {},
   "outputs": [
    {
     "data": {
      "text/html": [
       "<table class=\"simpletable\">\n",
       "<caption>OLS Regression Results</caption>\n",
       "<tr>\n",
       "  <th>Dep. Variable:</th>      <td>Weekly_Sales</td>   <th>  R-squared:         </th>  <td>   0.090</td>  \n",
       "</tr>\n",
       "<tr>\n",
       "  <th>Model:</th>                   <td>OLS</td>       <th>  Adj. R-squared:    </th>  <td>   0.089</td>  \n",
       "</tr>\n",
       "<tr>\n",
       "  <th>Method:</th>             <td>Least Squares</td>  <th>  F-statistic:       </th>  <td>   3454.</td>  \n",
       "</tr>\n",
       "<tr>\n",
       "  <th>Date:</th>             <td>Mon, 26 Apr 2021</td> <th>  Prob (F-statistic):</th>   <td>  0.00</td>   \n",
       "</tr>\n",
       "<tr>\n",
       "  <th>Time:</th>                 <td>18:15:20</td>     <th>  Log-Likelihood:    </th> <td>-4.8070e+06</td>\n",
       "</tr>\n",
       "<tr>\n",
       "  <th>No. Observations:</th>      <td>421570</td>      <th>  AIC:               </th>  <td>9.614e+06</td> \n",
       "</tr>\n",
       "<tr>\n",
       "  <th>Df Residuals:</th>          <td>421557</td>      <th>  BIC:               </th>  <td>9.614e+06</td> \n",
       "</tr>\n",
       "<tr>\n",
       "  <th>Df Model:</th>              <td>    12</td>      <th>                     </th>      <td> </td>     \n",
       "</tr>\n",
       "<tr>\n",
       "  <th>Covariance Type:</th>      <td>nonrobust</td>    <th>                     </th>      <td> </td>     \n",
       "</tr>\n",
       "</table>\n",
       "<table class=\"simpletable\">\n",
       "<tr>\n",
       "        <td></td>          <th>coef</th>     <th>std err</th>      <th>t</th>      <th>P>|t|</th>  <th>[0.025</th>    <th>0.975]</th>  \n",
       "</tr>\n",
       "<tr>\n",
       "  <th>const</th>        <td>  1.03e+04</td> <td>  142.214</td> <td>   72.446</td> <td> 0.000</td> <td>    1e+04</td> <td> 1.06e+04</td>\n",
       "</tr>\n",
       "<tr>\n",
       "  <th>Store</th>        <td> -143.3891</td> <td>    3.051</td> <td>  -47.003</td> <td> 0.000</td> <td> -149.368</td> <td> -137.410</td>\n",
       "</tr>\n",
       "<tr>\n",
       "  <th>Dept</th>         <td>  110.3523</td> <td>    1.095</td> <td>  100.737</td> <td> 0.000</td> <td>  108.205</td> <td>  112.499</td>\n",
       "</tr>\n",
       "<tr>\n",
       "  <th>IsHoliday</th>    <td> 1659.7048</td> <td>  306.748</td> <td>    5.411</td> <td> 0.000</td> <td> 1058.488</td> <td> 2260.922</td>\n",
       "</tr>\n",
       "<tr>\n",
       "  <th>Week</th>         <td> -103.3617</td> <td>   27.496</td> <td>   -3.759</td> <td> 0.000</td> <td> -157.253</td> <td>  -49.471</td>\n",
       "</tr>\n",
       "<tr>\n",
       "  <th>Month</th>        <td>  645.5361</td> <td>  119.408</td> <td>    5.406</td> <td> 0.000</td> <td>  411.501</td> <td>  879.571</td>\n",
       "</tr>\n",
       "<tr>\n",
       "  <th>SpecialDay</th>   <td> -363.7994</td> <td>  123.572</td> <td>   -2.944</td> <td> 0.003</td> <td> -605.997</td> <td> -121.602</td>\n",
       "</tr>\n",
       "<tr>\n",
       "  <th>Type_A</th>       <td> 1613.6161</td> <td>   90.111</td> <td>   17.907</td> <td> 0.000</td> <td> 1437.002</td> <td> 1790.230</td>\n",
       "</tr>\n",
       "<tr>\n",
       "  <th>Type_B</th>       <td> 1252.7281</td> <td>   65.907</td> <td>   19.007</td> <td> 0.000</td> <td> 1123.552</td> <td> 1381.904</td>\n",
       "</tr>\n",
       "<tr>\n",
       "  <th>Type_C</th>       <td> 7436.4425</td> <td>  127.610</td> <td>   58.275</td> <td> 0.000</td> <td> 7186.331</td> <td> 7686.554</td>\n",
       "</tr>\n",
       "<tr>\n",
       "  <th>CPI</th>          <td> -944.2025</td> <td>   36.147</td> <td>  -26.121</td> <td> 0.000</td> <td>-1015.050</td> <td> -873.355</td>\n",
       "</tr>\n",
       "<tr>\n",
       "  <th>Unemployment</th> <td> -436.4870</td> <td>   36.871</td> <td>  -11.838</td> <td> 0.000</td> <td> -508.753</td> <td> -364.221</td>\n",
       "</tr>\n",
       "<tr>\n",
       "  <th>Size</th>         <td> 6027.3142</td> <td>   58.112</td> <td>  103.718</td> <td> 0.000</td> <td> 5913.416</td> <td> 6141.213</td>\n",
       "</tr>\n",
       "<tr>\n",
       "  <th>Year</th>         <td> -104.1357</td> <td>   35.540</td> <td>   -2.930</td> <td> 0.003</td> <td> -173.792</td> <td>  -34.479</td>\n",
       "</tr>\n",
       "</table>\n",
       "<table class=\"simpletable\">\n",
       "<tr>\n",
       "  <th>Omnibus:</th>       <td>296928.884</td> <th>  Durbin-Watson:     </th>  <td>   1.321</td>  \n",
       "</tr>\n",
       "<tr>\n",
       "  <th>Prob(Omnibus):</th>   <td> 0.000</td>   <th>  Jarque-Bera (JB):  </th> <td>9030579.636</td>\n",
       "</tr>\n",
       "<tr>\n",
       "  <th>Skew:</th>            <td> 3.020</td>   <th>  Prob(JB):          </th>  <td>    0.00</td>  \n",
       "</tr>\n",
       "<tr>\n",
       "  <th>Kurtosis:</th>        <td>24.855</td>   <th>  Cond. No.          </th>  <td>1.47e+16</td>  \n",
       "</tr>\n",
       "</table><br/><br/>Notes:<br/>[1] Standard Errors assume that the covariance matrix of the errors is correctly specified.<br/>[2] The smallest eigenvalue is 7.53e-24. This might indicate that there are<br/>strong multicollinearity problems or that the design matrix is singular."
      ],
      "text/plain": [
       "<class 'statsmodels.iolib.summary.Summary'>\n",
       "\"\"\"\n",
       "                            OLS Regression Results                            \n",
       "==============================================================================\n",
       "Dep. Variable:           Weekly_Sales   R-squared:                       0.090\n",
       "Model:                            OLS   Adj. R-squared:                  0.089\n",
       "Method:                 Least Squares   F-statistic:                     3454.\n",
       "Date:                Mon, 26 Apr 2021   Prob (F-statistic):               0.00\n",
       "Time:                        18:15:20   Log-Likelihood:            -4.8070e+06\n",
       "No. Observations:              421570   AIC:                         9.614e+06\n",
       "Df Residuals:                  421557   BIC:                         9.614e+06\n",
       "Df Model:                          12                                         \n",
       "Covariance Type:            nonrobust                                         \n",
       "================================================================================\n",
       "                   coef    std err          t      P>|t|      [0.025      0.975]\n",
       "--------------------------------------------------------------------------------\n",
       "const          1.03e+04    142.214     72.446      0.000       1e+04    1.06e+04\n",
       "Store         -143.3891      3.051    -47.003      0.000    -149.368    -137.410\n",
       "Dept           110.3523      1.095    100.737      0.000     108.205     112.499\n",
       "IsHoliday     1659.7048    306.748      5.411      0.000    1058.488    2260.922\n",
       "Week          -103.3617     27.496     -3.759      0.000    -157.253     -49.471\n",
       "Month          645.5361    119.408      5.406      0.000     411.501     879.571\n",
       "SpecialDay    -363.7994    123.572     -2.944      0.003    -605.997    -121.602\n",
       "Type_A        1613.6161     90.111     17.907      0.000    1437.002    1790.230\n",
       "Type_B        1252.7281     65.907     19.007      0.000    1123.552    1381.904\n",
       "Type_C        7436.4425    127.610     58.275      0.000    7186.331    7686.554\n",
       "CPI           -944.2025     36.147    -26.121      0.000   -1015.050    -873.355\n",
       "Unemployment  -436.4870     36.871    -11.838      0.000    -508.753    -364.221\n",
       "Size          6027.3142     58.112    103.718      0.000    5913.416    6141.213\n",
       "Year          -104.1357     35.540     -2.930      0.003    -173.792     -34.479\n",
       "==============================================================================\n",
       "Omnibus:                   296928.884   Durbin-Watson:                   1.321\n",
       "Prob(Omnibus):                  0.000   Jarque-Bera (JB):          9030579.636\n",
       "Skew:                           3.020   Prob(JB):                         0.00\n",
       "Kurtosis:                      24.855   Cond. No.                     1.47e+16\n",
       "==============================================================================\n",
       "\n",
       "Notes:\n",
       "[1] Standard Errors assume that the covariance matrix of the errors is correctly specified.\n",
       "[2] The smallest eigenvalue is 7.53e-24. This might indicate that there are\n",
       "strong multicollinearity problems or that the design matrix is singular.\n",
       "\"\"\""
      ]
     },
     "execution_count": 4,
     "metadata": {},
     "output_type": "execute_result"
    }
   ],
   "source": [
    "import statsmodels.api as sm\n",
    "\n",
    "x = sm.add_constant(X)\n",
    "sum_ = sm.OLS(y,x).fit()\n",
    "sum_.summary()"
   ]
  },
  {
   "cell_type": "markdown",
   "id": "atlantic-compatibility",
   "metadata": {},
   "source": [
    "You can see that in the preprocessing notebook, we dropped the irrelavant data out. So the above statistics are better when seeing its individual p-value. "
   ]
  },
  {
   "cell_type": "markdown",
   "id": "american-polymer",
   "metadata": {},
   "source": [
    "#### 4. Split the data into train and test set"
   ]
  },
  {
   "cell_type": "code",
   "execution_count": 5,
   "id": "magnetic-arcade",
   "metadata": {},
   "outputs": [],
   "source": [
    "from sklearn.model_selection import train_test_split\n",
    "\n",
    "X_train,X_test,y_train,y_test = train_test_split(X,y,test_size=0.2,random_state=5)"
   ]
  },
  {
   "cell_type": "markdown",
   "id": "cross-acrylic",
   "metadata": {},
   "source": [
    "#### 5. Build a model"
   ]
  },
  {
   "cell_type": "code",
   "execution_count": 6,
   "id": "lesbian-signal",
   "metadata": {},
   "outputs": [
    {
     "data": {
      "text/plain": [
       "0.9754747637394521"
      ]
     },
     "execution_count": 6,
     "metadata": {},
     "output_type": "execute_result"
    }
   ],
   "source": [
    "from sklearn.ensemble import RandomForestRegressor\n",
    "\n",
    "rf = RandomForestRegressor(n_jobs=-1)\n",
    "rf.fit(X_train,y_train)\n",
    "y_pred = rf.predict(X_test)\n",
    "rf.score(X_test,y_test)"
   ]
  },
  {
   "cell_type": "markdown",
   "id": "formal-manner",
   "metadata": {},
   "source": [
    "#### 6. Evaluate the model"
   ]
  },
  {
   "cell_type": "markdown",
   "id": "acute-spending",
   "metadata": {},
   "source": [
    "Regression model evaluation metrics\n",
    "\n",
    "1. Root Mean Sqaure Error (RMSE).\n",
    "2. Mean Absolute Error (MAE).\n",
    "3. R^2 (R-Square) or coefficient of determination.\n",
    "4. Cross validation: accuracy.\n",
    "5. Wright Mean Abosolute Error (WMAE)"
   ]
  },
  {
   "cell_type": "code",
   "execution_count": 20,
   "id": "computational-still",
   "metadata": {},
   "outputs": [],
   "source": [
    "from sklearn.metrics import mean_squared_error,r2_score,mean_absolute_error\n",
    "from sklearn.model_selection import cross_val_score\n",
    "\n",
    "def evaluate_model(dataset,model,y_test,y_pred,X=None,y=None):\n",
    "    rmse = mean_squared_error(y_test,y_pred,squared=False)\n",
    "    mae = mean_absolute_error(y_test,y_pred)\n",
    "    r2 = r2_score(y_test,y_pred)\n",
    "    weights = dataset.IsHoliday.apply(lambda x: 5 if x else 1)\n",
    "    wmae = np.round(np.sum(weights*abs(y_test-y_pred))/(np.sum(weights)), 2)\n",
    "    print(f\"Root Mean Squared Error: {rmse:.2f}\")\n",
    "    print(f\"Mean Absolute Error: {mae:.2f}\")\n",
    "    print(f\"R-Squared: {r2*100:.2f}%\")\n",
    "    print(f\"Weight Mean Absolute Error: {wmae:.2f}\")\n",
    "    if X is not None and y is not None:\n",
    "        cvs_acc = cross_val_score(model,X,y,cv=5)\n",
    "        print(f\"The cross validation accuracy: {np.mean(cvs_acc)*100:.2f}%\")"
   ]
  },
  {
   "cell_type": "code",
   "execution_count": 21,
   "id": "recorded-architecture",
   "metadata": {},
   "outputs": [
    {
     "name": "stdout",
     "output_type": "stream",
     "text": [
      "Root Mean Squared Error: 3589.37\n",
      "Mean Absolute Error: 1394.33\n",
      "R-Squared: 97.55%\n",
      "Weight Mean Absolute Error: 319.25\n",
      "The cross validation accuracy: 71.21%\n"
     ]
    }
   ],
   "source": [
    "evaluate_model(X,rf,y_test,y_pred,X,y)"
   ]
  },
  {
   "cell_type": "markdown",
   "id": "criminal-financing",
   "metadata": {},
   "source": [
    "#### Additional-Features Importance"
   ]
  },
  {
   "cell_type": "code",
   "execution_count": 19,
   "id": "sorted-vintage",
   "metadata": {},
   "outputs": [
    {
     "data": {
      "image/png": "[encoded data removed]",
      "text/plain": [
       "<Figure size 360x360 with 1 Axes>"
      ]
     },
     "metadata": {
      "needs_background": "light"
     },
     "output_type": "display_data"
    }
   ],
   "source": [
    "fig, ax = plt.subplots(1,1,figsize=(5,5))\n",
    "\n",
    "sorted_idx = rf.feature_importances_.argsort()\n",
    "ax.barh(X.columns[sorted_idx], rf.feature_importances_[sorted_idx])\n",
    "ax.set_title(f\"Random Forest Feature Importance\");"
   ]
  },
  {
   "cell_type": "markdown",
   "id": "renewable-share",
   "metadata": {},
   "source": [
    "#### 7. Save the model"
   ]
  },
  {
   "cell_type": "code",
   "execution_count": 113,
   "id": "viral-alias",
   "metadata": {},
   "outputs": [],
   "source": [
    "import pickle\n",
    "\n",
    "pickle.dump(rf, open(\"models/RandomForestModel.pkl\", 'wb'))"
   ]
  },
  {
   "cell_type": "markdown",
   "id": "several-judges",
   "metadata": {},
   "source": [
    "#### 8. Tune the model with Grid Search"
   ]
  },
  {
   "cell_type": "markdown",
   "id": "saving-consistency",
   "metadata": {},
   "source": [
    "To tune the model parameters, we can't use all the data because it will take long long time to run all possible combination. So we decide to use only 10 percent of the data to find the best parameters. This time we use GridSearchCV to perform the tuning."
   ]
  },
  {
   "cell_type": "code",
   "execution_count": 9,
   "id": "weird-luther",
   "metadata": {},
   "outputs": [],
   "source": [
    "data_10 = data.sample(int(len(data)*0.1))"
   ]
  },
  {
   "cell_type": "code",
   "execution_count": 10,
   "id": "twenty-oasis",
   "metadata": {},
   "outputs": [],
   "source": [
    "X_10 = data_10.drop([\"Weekly_Sales\",\"DateTime\"],axis=1)\n",
    "y_10 = data_10[\"Weekly_Sales\"]"
   ]
  },
  {
   "cell_type": "code",
   "execution_count": 11,
   "id": "unique-bridge",
   "metadata": {},
   "outputs": [],
   "source": [
    "from sklearn.model_selection import train_test_split\n",
    "\n",
    "X_train_10,X_test_10,y_train_10,y_test_10 = train_test_split(X_10,y_10,test_size=0.2,random_state=5)"
   ]
  },
  {
   "cell_type": "code",
   "execution_count": 12,
   "id": "about-haiti",
   "metadata": {},
   "outputs": [
    {
     "name": "stdout",
     "output_type": "stream",
     "text": [
      "Fitting 5 folds for each of 12 candidates, totalling 60 fits\n",
      "[CV] END max_depth=20, max_features=auto, min_samples_leaf=4, min_samples_split=2, n_estimators=100; total time=   2.6s\n",
      "[CV] END max_depth=20, max_features=auto, min_samples_leaf=4, min_samples_split=2, n_estimators=100; total time=   2.5s\n",
      "[CV] END max_depth=20, max_features=auto, min_samples_leaf=4, min_samples_split=2, n_estimators=100; total time=   2.6s\n",
      "[CV] END max_depth=20, max_features=auto, min_samples_leaf=4, min_samples_split=2, n_estimators=100; total time=   2.5s\n",
      "[CV] END max_depth=20, max_features=auto, min_samples_leaf=4, min_samples_split=2, n_estimators=100; total time=   2.7s\n",
      "[CV] END max_depth=20, max_features=auto, min_samples_leaf=4, min_samples_split=2, n_estimators=200; total time=   4.9s\n",
      "[CV] END max_depth=20, max_features=auto, min_samples_leaf=4, min_samples_split=2, n_estimators=200; total time=   4.7s\n",
      "[CV] END max_depth=20, max_features=auto, min_samples_leaf=4, min_samples_split=2, n_estimators=200; total time=   4.7s\n",
      "[CV] END max_depth=20, max_features=auto, min_samples_leaf=4, min_samples_split=2, n_estimators=200; total time=   4.7s\n",
      "[CV] END max_depth=20, max_features=auto, min_samples_leaf=4, min_samples_split=2, n_estimators=200; total time=   4.6s\n",
      "[CV] END max_depth=20, max_features=auto, min_samples_leaf=4, min_samples_split=2, n_estimators=500; total time=  11.0s\n",
      "[CV] END max_depth=20, max_features=auto, min_samples_leaf=4, min_samples_split=2, n_estimators=500; total time=  10.9s\n",
      "[CV] END max_depth=20, max_features=auto, min_samples_leaf=4, min_samples_split=2, n_estimators=500; total time=  10.9s\n",
      "[CV] END max_depth=20, max_features=auto, min_samples_leaf=4, min_samples_split=2, n_estimators=500; total time=  10.9s\n",
      "[CV] END max_depth=20, max_features=auto, min_samples_leaf=4, min_samples_split=2, n_estimators=500; total time=  11.0s\n",
      "[CV] END max_depth=20, max_features=auto, min_samples_leaf=4, min_samples_split=4, n_estimators=100; total time=   2.3s\n",
      "[CV] END max_depth=20, max_features=auto, min_samples_leaf=4, min_samples_split=4, n_estimators=100; total time=   2.3s\n",
      "[CV] END max_depth=20, max_features=auto, min_samples_leaf=4, min_samples_split=4, n_estimators=100; total time=   2.2s\n",
      "[CV] END max_depth=20, max_features=auto, min_samples_leaf=4, min_samples_split=4, n_estimators=100; total time=   2.4s\n",
      "[CV] END max_depth=20, max_features=auto, min_samples_leaf=4, min_samples_split=4, n_estimators=100; total time=   2.4s\n",
      "[CV] END max_depth=20, max_features=auto, min_samples_leaf=4, min_samples_split=4, n_estimators=200; total time=   4.7s\n",
      "[CV] END max_depth=20, max_features=auto, min_samples_leaf=4, min_samples_split=4, n_estimators=200; total time=   4.6s\n",
      "[CV] END max_depth=20, max_features=auto, min_samples_leaf=4, min_samples_split=4, n_estimators=200; total time=   4.8s\n",
      "[CV] END max_depth=20, max_features=auto, min_samples_leaf=4, min_samples_split=4, n_estimators=200; total time=   4.7s\n",
      "[CV] END max_depth=20, max_features=auto, min_samples_leaf=4, min_samples_split=4, n_estimators=200; total time=   4.7s\n",
      "[CV] END max_depth=20, max_features=auto, min_samples_leaf=4, min_samples_split=4, n_estimators=500; total time=  11.4s\n",
      "[CV] END max_depth=20, max_features=auto, min_samples_leaf=4, min_samples_split=4, n_estimators=500; total time=  11.1s\n",
      "[CV] END max_depth=20, max_features=auto, min_samples_leaf=4, min_samples_split=4, n_estimators=500; total time=  10.9s\n",
      "[CV] END max_depth=20, max_features=auto, min_samples_leaf=4, min_samples_split=4, n_estimators=500; total time=  10.9s\n",
      "[CV] END max_depth=20, max_features=auto, min_samples_leaf=4, min_samples_split=4, n_estimators=500; total time=  10.9s\n",
      "[CV] END max_depth=20, max_features=sqrt, min_samples_leaf=4, min_samples_split=2, n_estimators=100; total time=   0.9s\n",
      "[CV] END max_depth=20, max_features=sqrt, min_samples_leaf=4, min_samples_split=2, n_estimators=100; total time=   0.9s\n",
      "[CV] END max_depth=20, max_features=sqrt, min_samples_leaf=4, min_samples_split=2, n_estimators=100; total time=   0.9s\n",
      "[CV] END max_depth=20, max_features=sqrt, min_samples_leaf=4, min_samples_split=2, n_estimators=100; total time=   0.9s\n",
      "[CV] END max_depth=20, max_features=sqrt, min_samples_leaf=4, min_samples_split=2, n_estimators=100; total time=   0.9s\n",
      "[CV] END max_depth=20, max_features=sqrt, min_samples_leaf=4, min_samples_split=2, n_estimators=200; total time=   1.6s\n",
      "[CV] END max_depth=20, max_features=sqrt, min_samples_leaf=4, min_samples_split=2, n_estimators=200; total time=   1.6s\n",
      "[CV] END max_depth=20, max_features=sqrt, min_samples_leaf=4, min_samples_split=2, n_estimators=200; total time=   1.6s\n",
      "[CV] END max_depth=20, max_features=sqrt, min_samples_leaf=4, min_samples_split=2, n_estimators=200; total time=   1.6s\n",
      "[CV] END max_depth=20, max_features=sqrt, min_samples_leaf=4, min_samples_split=2, n_estimators=200; total time=   1.6s\n",
      "[CV] END max_depth=20, max_features=sqrt, min_samples_leaf=4, min_samples_split=2, n_estimators=500; total time=   3.6s\n",
      "[CV] END max_depth=20, max_features=sqrt, min_samples_leaf=4, min_samples_split=2, n_estimators=500; total time=   3.6s\n",
      "[CV] END max_depth=20, max_features=sqrt, min_samples_leaf=4, min_samples_split=2, n_estimators=500; total time=   3.7s\n",
      "[CV] END max_depth=20, max_features=sqrt, min_samples_leaf=4, min_samples_split=2, n_estimators=500; total time=   3.6s\n",
      "[CV] END max_depth=20, max_features=sqrt, min_samples_leaf=4, min_samples_split=2, n_estimators=500; total time=   3.7s\n",
      "[CV] END max_depth=20, max_features=sqrt, min_samples_leaf=4, min_samples_split=4, n_estimators=100; total time=   0.9s\n",
      "[CV] END max_depth=20, max_features=sqrt, min_samples_leaf=4, min_samples_split=4, n_estimators=100; total time=   0.9s\n",
      "[CV] END max_depth=20, max_features=sqrt, min_samples_leaf=4, min_samples_split=4, n_estimators=100; total time=   0.9s\n",
      "[CV] END max_depth=20, max_features=sqrt, min_samples_leaf=4, min_samples_split=4, n_estimators=100; total time=   0.9s\n",
      "[CV] END max_depth=20, max_features=sqrt, min_samples_leaf=4, min_samples_split=4, n_estimators=100; total time=   0.9s\n",
      "[CV] END max_depth=20, max_features=sqrt, min_samples_leaf=4, min_samples_split=4, n_estimators=200; total time=   1.6s\n",
      "[CV] END max_depth=20, max_features=sqrt, min_samples_leaf=4, min_samples_split=4, n_estimators=200; total time=   1.6s\n",
      "[CV] END max_depth=20, max_features=sqrt, min_samples_leaf=4, min_samples_split=4, n_estimators=200; total time=   1.5s\n",
      "[CV] END max_depth=20, max_features=sqrt, min_samples_leaf=4, min_samples_split=4, n_estimators=200; total time=   1.6s\n",
      "[CV] END max_depth=20, max_features=sqrt, min_samples_leaf=4, min_samples_split=4, n_estimators=200; total time=   1.6s\n",
      "[CV] END max_depth=20, max_features=sqrt, min_samples_leaf=4, min_samples_split=4, n_estimators=500; total time=   3.5s\n",
      "[CV] END max_depth=20, max_features=sqrt, min_samples_leaf=4, min_samples_split=4, n_estimators=500; total time=   3.5s\n",
      "[CV] END max_depth=20, max_features=sqrt, min_samples_leaf=4, min_samples_split=4, n_estimators=500; total time=   3.6s\n",
      "[CV] END max_depth=20, max_features=sqrt, min_samples_leaf=4, min_samples_split=4, n_estimators=500; total time=   3.6s\n",
      "[CV] END max_depth=20, max_features=sqrt, min_samples_leaf=4, min_samples_split=4, n_estimators=500; total time=   3.5s\n"
     ]
    }
   ],
   "source": [
    "from sklearn.model_selection import GridSearchCV,train_test_split\n",
    "\n",
    "grid = {\"n_estimators\":[100,200,500],\n",
    "       \"max_depth\":[20],\n",
    "       \"max_features\":[\"auto\",\"sqrt\"],\n",
    "       \"min_samples_split\":[2,4],\n",
    "       \"min_samples_leaf\":[4]}\n",
    "\n",
    "model = RandomForestRegressor(n_jobs=-1)\n",
    "\n",
    "gs_model = GridSearchCV(estimator=model,\n",
    "                       param_grid=grid,\n",
    "                       cv=5,\n",
    "                       verbose=2)\n",
    "\n",
    "gs_model.fit(X_train_10,y_train_10);"
   ]
  },
  {
   "cell_type": "code",
   "execution_count": 13,
   "id": "ranging-buffalo",
   "metadata": {},
   "outputs": [
    {
     "data": {
      "text/plain": [
       "{'max_depth': 20,\n",
       " 'max_features': 'auto',\n",
       " 'min_samples_leaf': 4,\n",
       " 'min_samples_split': 4,\n",
       " 'n_estimators': 200}"
      ]
     },
     "execution_count": 13,
     "metadata": {},
     "output_type": "execute_result"
    }
   ],
   "source": [
    "gs_model.best_params_"
   ]
  },
  {
   "cell_type": "code",
   "execution_count": 14,
   "id": "complimentary-antarctica",
   "metadata": {},
   "outputs": [],
   "source": [
    "gs_y_preds = gs_model.predict(X_test_10)"
   ]
  },
  {
   "cell_type": "markdown",
   "id": "featured-campus",
   "metadata": {},
   "source": [
    "#### 8. Use the best parameters to build a model"
   ]
  },
  {
   "cell_type": "code",
   "execution_count": 22,
   "id": "lucky-psychiatry",
   "metadata": {},
   "outputs": [
    {
     "data": {
      "text/plain": [
       "0.9720029927860587"
      ]
     },
     "execution_count": 22,
     "metadata": {},
     "output_type": "execute_result"
    }
   ],
   "source": [
    "rf_best_params = RandomForestRegressor(max_depth=20,\n",
    "                           max_features=\"auto\",\n",
    "                           min_samples_leaf=4,\n",
    "                           min_samples_split=4,\n",
    "                           n_estimators=500,\n",
    "                           n_jobs=-1)\n",
    "rf_best_params.fit(X_train,y_train)\n",
    "y_pred = rf.predict(X_test)\n",
    "rf_best_params.score(X_test,y_test)"
   ]
  },
  {
   "cell_type": "code",
   "execution_count": 23,
   "id": "demonstrated-bidding",
   "metadata": {},
   "outputs": [
    {
     "name": "stdout",
     "output_type": "stream",
     "text": [
      "Root Mean Squared Error: 3589.37\n",
      "Mean Absolute Error: 1394.33\n",
      "R-Squared: 97.55%\n",
      "Weight Mean Absolute Error: 319.25\n"
     ]
    }
   ],
   "source": [
    "evaluate_model(X,rf_best_params,y_test,y_pred)"
   ]
  },
  {
   "cell_type": "markdown",
   "id": "suspected-shift",
   "metadata": {},
   "source": [
    "As you can see the best scores are from the first model that we built with defualt parameters. That's why Random Forest is a good model and easy to use because the defualt model usually gives the good result."
   ]
  },
  {
   "cell_type": "markdown",
   "id": "latest-aggregate",
   "metadata": {},
   "source": [
    "#### 9. Try with other models\n",
    "\n",
    "1. Linear Regression.\n",
    "2. K-Nearest Neighbors.\n",
    "3. Decision Tree .\n",
    "4. Artificial Neural Networks."
   ]
  },
  {
   "cell_type": "code",
   "execution_count": 24,
   "id": "moderate-stuff",
   "metadata": {},
   "outputs": [
    {
     "name": "stdout",
     "output_type": "stream",
     "text": [
      "Root Mean Squared Error: 21831.84\n",
      "Mean Absolute Error: 14597.85\n",
      "R-Squared: 9.27%\n",
      "Weight Mean Absolute Error: 2965.92\n"
     ]
    }
   ],
   "source": [
    "from sklearn.linear_model import LinearRegression\n",
    "\n",
    "reg = LinearRegression()\n",
    "reg.fit(X_train,y_train)\n",
    "y_reg = reg.predict(X_test)\n",
    "evaluate_model(X,reg,y_test,y_reg)"
   ]
  },
  {
   "cell_type": "markdown",
   "id": "departmental-aurora",
   "metadata": {},
   "source": [
    "As we can see from RMSE of Linear Regression, the output is not good enough because the some columns in the data might not be a linear. So when we apply Linear Regression to perform a model, the output is what we expected."
   ]
  },
  {
   "cell_type": "code",
   "execution_count": 25,
   "id": "developed-filename",
   "metadata": {},
   "outputs": [
    {
     "name": "stdout",
     "output_type": "stream",
     "text": [
      "Root Mean Squared Error: 12552.49\n",
      "Mean Absolute Error: 6873.98\n",
      "R-Squared: 70.01%\n",
      "Weight Mean Absolute Error: 1519.88\n"
     ]
    }
   ],
   "source": [
    "from sklearn.neighbors import KNeighborsRegressor # KSN\n",
    "\n",
    "knn = KNeighborsRegressor()\n",
    "knn.fit(X_train,y_train)\n",
    "y_knn = knn.predict(X_test)\n",
    "evaluate_model(X,knn,y_test,y_knn)"
   ]
  },
  {
   "cell_type": "markdown",
   "id": "dying-stranger",
   "metadata": {},
   "source": [
    "As we can see from RMSE of K-Nearest Neighbors, the output is better than Linear Regression but it's not that good. Maybe the data might perform well in this model."
   ]
  },
  {
   "cell_type": "code",
   "execution_count": 26,
   "id": "expanded-nicholas",
   "metadata": {},
   "outputs": [
    {
     "name": "stdout",
     "output_type": "stream",
     "text": [
      "Root Mean Squared Error: 4484.43\n",
      "Mean Absolute Error: 1720.65\n",
      "R-Squared: 96.17%\n",
      "Weight Mean Absolute Error: 391.04\n"
     ]
    }
   ],
   "source": [
    "from sklearn.tree import DecisionTreeRegressor\n",
    "\n",
    "dt = DecisionTreeRegressor()\n",
    "dt.fit(X_train,y_train)\n",
    "y_dt = dt.predict(X_test)\n",
    "evaluate_model(X,dt,y_test,y_dt)"
   ]
  },
  {
   "cell_type": "markdown",
   "id": "false-chassis",
   "metadata": {},
   "source": [
    "As we can see from RMSE of Decision Tree, we get the better score compare to the two models before."
   ]
  },
  {
   "cell_type": "code",
   "execution_count": 42,
   "id": "cellular-commons",
   "metadata": {},
   "outputs": [
    {
     "name": "stdout",
     "output_type": "stream",
     "text": [
      "Epoch 1/150\n",
      "33726/33726 [==============================] - 23s 685us/step - loss: 489719988.2805 - mean_squared_error: 489719988.2805 - val_loss: 426777568.0000 - val_mean_squared_error: 426777568.0000\n",
      "Epoch 2/150\n",
      "33726/33726 [==============================] - 24s 713us/step - loss: 413646636.8837 - mean_squared_error: 413646636.8837 - val_loss: 407095936.0000 - val_mean_squared_error: 407095936.0000\n",
      "Epoch 3/150\n",
      "33726/33726 [==============================] - 22s 665us/step - loss: 396083237.5438 - mean_squared_error: 396083237.5438 - val_loss: 398697216.0000 - val_mean_squared_error: 398697216.0000\n",
      "Epoch 4/150\n",
      "33726/33726 [==============================] - 24s 711us/step - loss: 392965305.9583 - mean_squared_error: 392965305.9583 - val_loss: 391564256.0000 - val_mean_squared_error: 391564256.0000\n",
      "Epoch 5/150\n",
      "33726/33726 [==============================] - 26s 773us/step - loss: 378137601.3798 - mean_squared_error: 378137601.3798 - val_loss: 385215776.0000 - val_mean_squared_error: 385215712.0000\n",
      "Epoch 6/150\n",
      "33726/33726 [==============================] - 29s 853us/step - loss: 372731923.6159 - mean_squared_error: 372731923.6045 - val_loss: 381632768.0000 - val_mean_squared_error: 381632768.0000\n",
      "Epoch 7/150\n",
      "33726/33726 [==============================] - 29s 857us/step - loss: 368581059.1481 - mean_squared_error: 368581059.1481 - val_loss: 377306048.0000 - val_mean_squared_error: 377306048.0000\n",
      "Epoch 8/150\n",
      "33726/33726 [==============================] - 24s 713us/step - loss: 366861775.8933 - mean_squared_error: 366861782.3527 - val_loss: 374188832.0000 - val_mean_squared_error: 374188832.0000\n",
      "Epoch 9/150\n",
      "33726/33726 [==============================] - 24s 704us/step - loss: 368145322.8722 - mean_squared_error: 368145322.8722 - val_loss: 372887936.0000 - val_mean_squared_error: 372887936.0000\n",
      "Epoch 10/150\n",
      "33726/33726 [==============================] - 24s 713us/step - loss: 366060043.1047 - mean_squared_error: 366060043.1066 - val_loss: 367875904.0000 - val_mean_squared_error: 367875936.0000\n",
      "Epoch 11/150\n",
      "33726/33726 [==============================] - 25s 727us/step - loss: 355962330.7674 - mean_squared_error: 355962330.7674 - val_loss: 374138336.0000 - val_mean_squared_error: 374138336.0000\n",
      "Epoch 12/150\n",
      "33726/33726 [==============================] - 25s 733us/step - loss: 368685774.8036 - mean_squared_error: 368685774.8040 - val_loss: 364986848.0000 - val_mean_squared_error: 364986848.0000\n",
      "Epoch 13/150\n",
      "33726/33726 [==============================] - 26s 775us/step - loss: 359753103.8605 - mean_squared_error: 359753103.8605 - val_loss: 363445600.0000 - val_mean_squared_error: 363445600.0000\n",
      "Epoch 14/150\n",
      "33726/33726 [==============================] - 26s 781us/step - loss: 358709607.3532 - mean_squared_error: 358709607.3532 - val_loss: 361623968.0000 - val_mean_squared_error: 361623968.0000\n",
      "Epoch 15/150\n",
      "33726/33726 [==============================] - 25s 744us/step - loss: 355734752.8383 - mean_squared_error: 355734752.8383 - val_loss: 361647616.0000 - val_mean_squared_error: 361647616.0000\n",
      "Epoch 16/150\n",
      "33726/33726 [==============================] - 25s 731us/step - loss: 354073822.5000 - mean_squared_error: 354073827.7326 - val_loss: 356963776.0000 - val_mean_squared_error: 356963776.0000\n",
      "Epoch 17/150\n",
      "33726/33726 [==============================] - 25s 739us/step - loss: 351192937.8418 - mean_squared_error: 351192937.8418 - val_loss: 357373216.0000 - val_mean_squared_error: 357373216.0000\n",
      "Epoch 18/150\n",
      "33726/33726 [==============================] - 26s 762us/step - loss: 346644937.9136 - mean_squared_error: 346644937.9293 - val_loss: 353403936.0000 - val_mean_squared_error: 353403936.0000\n",
      "Epoch 19/150\n",
      "33726/33726 [==============================] - 27s 808us/step - loss: 346782396.6401 - mean_squared_error: 346782396.6240 - val_loss: 351438176.0000 - val_mean_squared_error: 351438176.0000\n",
      "Epoch 20/150\n",
      "33726/33726 [==============================] - 26s 781us/step - loss: 346065408.0417 - mean_squared_error: 346065406.9468 - val_loss: 351216960.0000 - val_mean_squared_error: 351216960.0000\n",
      "Epoch 21/150\n",
      "33726/33726 [==============================] - 23s 672us/step - loss: 346794590.0777 - mean_squared_error: 346794590.0796 - val_loss: 348718656.0000 - val_mean_squared_error: 348718656.0000\n",
      "Epoch 22/150\n",
      "33726/33726 [==============================] - 23s 671us/step - loss: 339915906.4805 - mean_squared_error: 339915906.4824 - val_loss: 347644992.0000 - val_mean_squared_error: 347644992.0000\n",
      "Epoch 23/150\n",
      "33726/33726 [==============================] - 25s 734us/step - loss: 337677874.9194 - mean_squared_error: 337677874.9194 - val_loss: 346506464.0000 - val_mean_squared_error: 346506464.0000\n",
      "Epoch 24/150\n",
      "33726/33726 [==============================] - 26s 785us/step - loss: 345749182.9781 - mean_squared_error: 345749182.9895 - val_loss: 346344960.0000 - val_mean_squared_error: 346344960.0000\n",
      "Epoch 25/150\n",
      "33726/33726 [==============================] - 30s 880us/step - loss: 335880070.3028 - mean_squared_error: 335880067.9432 - val_loss: 350260288.0000 - val_mean_squared_error: 350260288.0000\n",
      "Epoch 26/150\n",
      "33726/33726 [==============================] - 24s 711us/step - loss: 343731010.9137 - mean_squared_error: 343731010.9137 - val_loss: 344318496.0000 - val_mean_squared_error: 344318496.0000\n",
      "Epoch 27/150\n",
      "33726/33726 [==============================] - 22s 664us/step - loss: 339327740.8899 - mean_squared_error: 339327740.8917 - val_loss: 343209504.0000 - val_mean_squared_error: 343209504.0000\n",
      "Epoch 28/150\n",
      "33726/33726 [==============================] - 24s 710us/step - loss: 333683805.6755 - mean_squared_error: 333683805.8073 - val_loss: 344974528.0000 - val_mean_squared_error: 344974528.0000\n",
      "Epoch 29/150\n",
      "33726/33726 [==============================] - 28s 826us/step - loss: 333716205.0758 - mean_squared_error: 333716205.0654 - val_loss: 342402016.0000 - val_mean_squared_error: 342402016.0000\n",
      "Epoch 30/150\n",
      "33726/33726 [==============================] - 27s 796us/step - loss: 331118006.2663 - mean_squared_error: 331118006.2682 - val_loss: 341632288.0000 - val_mean_squared_error: 341632288.0000\n",
      "Epoch 31/150\n",
      "33726/33726 [==============================] - 26s 758us/step - loss: 326039641.6177 - mean_squared_error: 326039645.7862 - val_loss: 339210880.0000 - val_mean_squared_error: 339210880.0000\n",
      "Epoch 32/150\n",
      "33726/33726 [==============================] - 27s 807us/step - loss: 330847123.5162 - mean_squared_error: 330847123.5162 - val_loss: 342756768.0000 - val_mean_squared_error: 342756768.0000\n",
      "Epoch 33/150\n",
      "33726/33726 [==============================] - 36s 1ms/step - loss: 331172245.5429 - mean_squared_error: 331172245.5429 - val_loss: 349395936.0000 - val_mean_squared_error: 349395936.0000\n",
      "Epoch 34/150\n",
      "33726/33726 [==============================] - 28s 842us/step - loss: 329944294.1994 - mean_squared_error: 329944294.1994 - val_loss: 339448320.0000 - val_mean_squared_error: 339448320.0000\n"
     ]
    }
   ],
   "source": [
    "import tensorflow as tf\n",
    "\n",
    "model = tf.keras.models.Sequential()\n",
    "\n",
    "model.add(tf.keras.layers.Dense(units=50,input_dim=X_train.shape[1],activation=\"relu\"))\n",
    "model.add(tf.keras.layers.Dense(units=50,activation=\"relu\"))\n",
    "model.add(tf.keras.layers.Dense(units=1,activation=\"linear\"))\n",
    "model.compile(optimizer=\"adam\",loss='mean_squared_error',metrics=[\"mean_squared_error\"])\n",
    "\n",
    "early_stopping = tf.keras.callbacks.EarlyStopping(monitor=\"val_mean_squared_error\",patience=3)\n",
    "\n",
    "r = model.fit(x=X_train,y=y_train,epochs=150,batch_size=10,validation_data=(X_test,y_test),callbacks=[early_stopping])"
   ]
  },
  {
   "cell_type": "code",
   "execution_count": 88,
   "id": "reverse-meter",
   "metadata": {},
   "outputs": [
    {
     "name": "stdout",
     "output_type": "stream",
     "text": [
      "Root Mean Squared Error: 18424.11\n"
     ]
    }
   ],
   "source": [
    "_,mean_squared_error = model.evaluate(X_test,y_test,verbose=0)\n",
    "y_ann = model.predict(X_test).reshape(-1,)\n",
    "print(f\"Root Mean Squared Error: {np.sqrt(mean_squared_error):.2f}\")"
   ]
  },
  {
   "cell_type": "code",
   "execution_count": null,
   "id": "visible-pioneer",
   "metadata": {},
   "outputs": [],
   "source": []
  }
 ],
 "metadata": {
  "kernelspec": {
   "display_name": "Python 3",
   "language": "python",
   "name": "python3"
  },
  "language_info": {
   "codemirror_mode": {
    "name": "ipython",
    "version": 3
   },
   "file_extension": ".py",
   "mimetype": "text/x-python",
   "name": "python",
   "nbconvert_exporter": "python",
   "pygments_lexer": "ipython3",
   "version": "3.8.5"
  }
 },
 "nbformat": 4,
 "nbformat_minor": 5
}
